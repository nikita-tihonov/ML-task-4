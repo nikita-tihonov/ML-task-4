{
 "cells": [
  {
   "cell_type": "markdown",
   "metadata": {
    "colab_type": "text",
    "id": "view-in-github"
   },
   "source": [
    "<a href=\"https://github.com/ml-dafe/ml_mipt_dafe/tree/main/hw2/prototypical_omniglot_unsolved.ipynb\" target=\"_parent\"><img src=\"https://colab.research.google.com/assets/colab-badge.svg\" alt=\"Open In Colab\"/></a>"
   ]
  },
  {
   "cell_type": "markdown",
   "metadata": {
    "colab_type": "text",
    "id": "GlyMLKngmf-t"
   },
   "source": [
    "# Prototypical Netwoks on the Omniglot dataset"
   ]
  },
  {
   "cell_type": "markdown",
   "metadata": {},
   "source": [
    "Заданием является воспроизведение результатов статьи [Prototypical Networks for Few-shot Learning](https://arxiv.org/pdf/1703.05175v2.pdf)"
   ]
  },
  {
   "cell_type": "markdown",
   "metadata": {
    "colab_type": "text",
    "id": "uh1W3Lszseoa"
   },
   "source": [
    "## Import libraries"
   ]
  },
  {
   "cell_type": "code",
   "execution_count": 130,
   "metadata": {
    "colab": {},
    "colab_type": "code",
    "id": "F8XY5yCCZCYZ"
   },
   "outputs": [],
   "source": [
    "import os\n",
    "from pathlib import Path\n",
    "\n",
    "import cv2\n",
    "import numpy as np\n",
    "import matplotlib.pyplot as plt\n",
    "from tqdm.notebook import tnrange\n",
    "import wandb\n",
    "from sklearn.manifold import TSNE\n",
    "\n",
    "import torch\n",
    "import torch.nn as nn\n",
    "import torchvision\n",
    "import torch.nn.functional as F\n",
    "import torch.optim as optim\n",
    "from torch.autograd import Variable\n",
    "from torchvision import datasets, transforms, models\n",
    "from torch.utils.data import DataLoader, Subset\n",
    "\n",
    "from sklearn.model_selection import train_test_split"
   ]
  },
  {
   "cell_type": "code",
   "execution_count": 131,
   "metadata": {
    "colab": {
     "base_uri": "https://localhost:8080/",
     "height": 34
    },
    "colab_type": "code",
    "id": "X5zGtLpGIziY",
    "outputId": "86df2581-5686-4b0a-de71-606e4d36b5c7"
   },
   "outputs": [
    {
     "name": "stdout",
     "output_type": "stream",
     "text": [
      "True\n"
     ]
    }
   ],
   "source": [
    "# Check GPU support, please do activate GPU\n",
    "print(torch.cuda.is_available())"
   ]
  },
  {
   "cell_type": "code",
   "execution_count": 132,
   "metadata": {},
   "outputs": [],
   "source": [
    "device = torch.device(\"cuda\" if torch.cuda.is_available() else \"cpu\")"
   ]
  },
  {
   "cell_type": "markdown",
   "metadata": {
    "colab_type": "text",
    "id": "Ebffp6XBskUN"
   },
   "source": [
    "## Import data"
   ]
  },
  {
   "cell_type": "markdown",
   "metadata": {
    "colab_type": "text",
    "id": "5-R_Clr7tEQh"
   },
   "source": [
    "Omniglot dataset - [the official GitHub repository](https://github.com/brendenlake/omniglot)"
   ]
  },
  {
   "cell_type": "code",
   "execution_count": 133,
   "metadata": {
    "colab": {
     "base_uri": "https://localhost:8080/",
     "height": 554
    },
    "colab_type": "code",
    "id": "7aV-Lqty3qTu",
    "outputId": "3fdd2af9-bf1e-4c0c-8d9a-27c93bb4ae0b"
   },
   "outputs": [],
   "source": [
    "# !wget https://github.com/brendenlake/omniglot/raw/master/python/images_evaluation.zip\n",
    "\n",
    "# !wget https://github.com/brendenlake/omniglot/raw/master/python/images_background.zip"
   ]
  },
  {
   "cell_type": "code",
   "execution_count": 134,
   "metadata": {
    "colab": {},
    "colab_type": "code",
    "id": "GnYYF9wL6ZuA"
   },
   "outputs": [],
   "source": [
    "# !unzip -qq images_background.zip\n",
    "# !unzip -qq images_evaluation.zip"
   ]
  },
  {
   "cell_type": "markdown",
   "metadata": {
    "colab_type": "text",
    "id": "l33V3V0asntp"
   },
   "source": [
    "## Read data"
   ]
  },
  {
   "cell_type": "markdown",
   "metadata": {
    "colab_type": "text",
    "id": "bMLu94FStR5n"
   },
   "source": [
    "Набор данных Omniglot содержит 1623 различных рукописных символа из 50 различных алфавитов. Каждый из 1623 персонажей был нарисован онлайн с помощью Amazon Mechanical Turk 20 разными людьми (то есть 20 примеров на персонажа).\n",
    "Он разделен на фоновый набор из 30 алфавитов и оценочный набор из 20 алфавитов. Мы будем использовать фоновый набор для обучения и оценочный набор для тестирования."
   ]
  },
  {
   "cell_type": "markdown",
   "metadata": {},
   "source": [
    "### Задание № 1 - реализуйте функцию чтения данных\n",
    "\n",
    "Вы можете увеличить размер обучающей выборки, если для каждого символа введете 4 класса, соответствующих повороту на 90 градусов. То есть из одного класса сделать x4."
   ]
  },
  {
   "cell_type": "code",
   "execution_count": 135,
   "metadata": {},
   "outputs": [],
   "source": [
    "def read_alphabets(alphabet_directory_path):\n",
    "    \"\"\"\n",
    "    Reads all the characters from a given alphabet_directory\n",
    "    Args:\n",
    "      alphabet_directory_path (str): path to diretory with files\n",
    "    Returns:\n",
    "      datax (np.array): array of path name of images\n",
    "      datay (np.array): array of labels\n",
    "    \"\"\"\n",
    "    datax = []  # all file names of images\n",
    "    datay = []  # all class names \n",
    "    \n",
    "    character_dirs = [d for d in os.listdir(alphabet_directory_path) \n",
    "                     if os.path.isdir(os.path.join(alphabet_directory_path, d))]\n",
    "    \n",
    "    for char_dir in character_dirs:\n",
    "        char_path = os.path.join(alphabet_directory_path, char_dir)\n",
    "        image_files = [f for f in os.listdir(char_path) if f.endswith('.png')]\n",
    "        \n",
    "        for img_file in image_files:\n",
    "            img_path = os.path.join(char_path, img_file)\n",
    "            \n",
    "            # Original image (0° rotation)\n",
    "            datax.append(img_path)\n",
    "            # datay.append(f\"{char_dir}_rot0\")\n",
    "            datay.append(f\"{char_dir}\")\n",
    "            \n",
    "            # Add rotated versions (90°, 180°, 270°)\n",
    "            # for rot in [90, 180, 270]:\n",
    "            #     datax.append(img_path)\n",
    "            #     datay.append(f\"{char_dir}_rot{rot}\")\n",
    "    \n",
    "    return np.array(datax), np.array(datay)"
   ]
  },
  {
   "cell_type": "code",
   "execution_count": 136,
   "metadata": {},
   "outputs": [],
   "source": [
    "def read_images(base_directory):\n",
    "    \"\"\"\n",
    "    Reads all the alphabets from the base_directory\n",
    "    Uses multithreading to decrease the reading time drastically\n",
    "    \"\"\"\n",
    "    datax = None\n",
    "    datay = None\n",
    "    \n",
    "    results = [read_alphabets(base_directory + '/' + directory + '/') for directory in os.listdir(base_directory)]\n",
    "    \n",
    "    for result in results:\n",
    "        if datax is None:\n",
    "            datax = result[0]\n",
    "            datay = result[1]\n",
    "        else:\n",
    "            datax = np.concatenate([datax, result[0]])\n",
    "            datay = np.concatenate([datay, result[1]])\n",
    "    return datax, datay"
   ]
  },
  {
   "cell_type": "code",
   "execution_count": 137,
   "metadata": {
    "colab": {
     "base_uri": "https://localhost:8080/",
     "height": 50
    },
    "colab_type": "code",
    "id": "P7UN-n0l7aT0",
    "outputId": "147692d1-df50-484e-d848-854d905c55e3"
   },
   "outputs": [],
   "source": [
    "trainx, trainy = read_images('images_background')"
   ]
  },
  {
   "cell_type": "code",
   "execution_count": 138,
   "metadata": {
    "colab": {
     "base_uri": "https://localhost:8080/",
     "height": 50
    },
    "colab_type": "code",
    "id": "G8urUFzNAaYA",
    "outputId": "35f2db4b-893b-454d-aac6-968364ddf7c0"
   },
   "outputs": [],
   "source": [
    "testx, testy = read_images('images_evaluation')"
   ]
  },
  {
   "cell_type": "code",
   "execution_count": 139,
   "metadata": {
    "colab": {
     "base_uri": "https://localhost:8080/",
     "height": 34
    },
    "colab_type": "code",
    "id": "Li3bT2bPAdih",
    "outputId": "14138bcd-2f38-4d65-bb0f-ad6d97a19b74"
   },
   "outputs": [
    {
     "data": {
      "text/plain": [
       "((19280,), (19280,), (13180,), (13180,))"
      ]
     },
     "execution_count": 139,
     "metadata": {},
     "output_type": "execute_result"
    }
   ],
   "source": [
    "trainx.shape, trainy.shape, testx.shape, testy.shape"
   ]
  },
  {
   "cell_type": "code",
   "execution_count": 140,
   "metadata": {},
   "outputs": [
    {
     "name": "stdout",
     "output_type": "stream",
     "text": [
      "Image: images_background/Latin/character24/0706_09.png, Label: character24\n",
      "Image: images_background/Latin/character24/0706_11.png, Label: character24\n",
      "Image: images_background/Latin/character24/0706_02.png, Label: character24\n",
      "Image: images_background/Latin/character24/0706_06.png, Label: character24\n",
      "Image: images_background/Latin/character24/0706_10.png, Label: character24\n"
     ]
    }
   ],
   "source": [
    "# Check the first few samples\n",
    "for i in range(5):\n",
    "    print(f\"Image: {trainx[i]}, Label: {trainy[i]}\")"
   ]
  },
  {
   "cell_type": "markdown",
   "metadata": {
    "colab_type": "text",
    "id": "J2VcplJ3xA-z"
   },
   "source": [
    "## Create samples"
   ]
  },
  {
   "cell_type": "code",
   "execution_count": 141,
   "metadata": {
    "colab": {},
    "colab_type": "code",
    "id": "oDOhxCjd24bw"
   },
   "outputs": [],
   "source": [
    "def extract_sample(n_way, n_support, n_query, datax, datay):\n",
    "    \"\"\"\n",
    "    Picks random sample of size n_support + n_querry, for n_way classes\n",
    "    Args:\n",
    "      n_way (int): number of classes in a classification task\n",
    "      n_support (int): number of labeled examples per class in the support set\n",
    "      n_query (int): number of labeled examples per class in the query set\n",
    "      datax (np.array): dataset of images\n",
    "      datay (np.array): dataset of labels\n",
    "    Returns:\n",
    "      (dict) of:\n",
    "        (torch.Tensor): sample of images. Size (n_way, n_support + n_query, (dim))\n",
    "        (int): n_way\n",
    "        (int): n_support\n",
    "        (int): n_query\n",
    "    \"\"\"\n",
    "    sample = []\n",
    "    K = np.random.choice(np.unique(datay), n_way, replace=False)\n",
    "    for cls in K:\n",
    "        datax_cls = datax[datay == cls]\n",
    "        perm = np.random.permutation(datax_cls)\n",
    "        sample_cls = perm[:(n_support + n_query)]\n",
    "        sample.append([cv2.resize(cv2.imread(fname), (28, 28))\n",
    "                                  for fname in sample_cls])\n",
    "        \n",
    "    sample = np.array(sample)\n",
    "    sample = torch.from_numpy(sample).float()\n",
    "    sample = sample.permute(0, 1, 4, 2, 3)\n",
    "    return ({\n",
    "        'images': sample,\n",
    "        'n_way': n_way,\n",
    "        'n_support': n_support,\n",
    "        'n_query': n_query\n",
    "    })"
   ]
  },
  {
   "cell_type": "code",
   "execution_count": 142,
   "metadata": {
    "colab": {},
    "colab_type": "code",
    "id": "ia3JLpQRu4fh"
   },
   "outputs": [],
   "source": [
    "def display_sample(sample):\n",
    "    \"\"\"\n",
    "    Displays sample in a grid\n",
    "    Args:\n",
    "      sample (torch.Tensor): sample of images to display\n",
    "    \"\"\"\n",
    "    #need 4D tensor to create grid, currently 5D\n",
    "    sample_4D = sample.view(sample.shape[0] * sample.shape[1], *sample.shape[2:])\n",
    "    #make a grid\n",
    "    out = torchvision.utils.make_grid(sample_4D, nrow=sample.shape[1])\n",
    "    \n",
    "    plt.figure(figsize=(16, 7))\n",
    "    plt.imshow(out.permute(1, 2, 0))"
   ]
  },
  {
   "cell_type": "markdown",
   "metadata": {
    "colab_type": "text",
    "id": "-uGq_ya4yG2K"
   },
   "source": [
    "В качестве примера возьмем образец и отобразим его\n",
    "\n",
    "*   n_way = 8\n",
    "*   n_support = 5\n",
    "*   n_query = 5"
   ]
  },
  {
   "cell_type": "code",
   "execution_count": 143,
   "metadata": {
    "colab": {
     "base_uri": "https://localhost:8080/",
     "height": 449
    },
    "colab_type": "code",
    "id": "lxOHvWfO1ApZ",
    "outputId": "b2a8c6f9-cb14-4ba1-d9df-198d69a6d30e"
   },
   "outputs": [
    {
     "name": "stderr",
     "output_type": "stream",
     "text": [
      "Clipping input data to the valid range for imshow with RGB data ([0..1] for floats or [0..255] for integers). Got range [0.0..255.0].\n"
     ]
    },
    {
     "data": {
      "image/png": "[encoded data removed]",
      "text/plain": [
       "<Figure size 1600x700 with 1 Axes>"
      ]
     },
     "metadata": {},
     "output_type": "display_data"
    }
   ],
   "source": [
    "sample_example = extract_sample(8, 5, 5, trainx, trainy)\n",
    "display_sample(sample_example['images'])"
   ]
  },
  {
   "cell_type": "code",
   "execution_count": 144,
   "metadata": {
    "colab": {
     "base_uri": "https://localhost:8080/",
     "height": 34
    },
    "colab_type": "code",
    "id": "RhDNMyG8AjOB",
    "outputId": "e305d41f-4319-4290-ea59-821c3d1797ae"
   },
   "outputs": [
    {
     "data": {
      "text/plain": [
       "torch.Size([8, 10, 3, 28, 28])"
      ]
     },
     "execution_count": 144,
     "metadata": {},
     "output_type": "execute_result"
    }
   ],
   "source": [
    "sample_example['images'].shape"
   ]
  },
  {
   "cell_type": "code",
   "execution_count": 145,
   "metadata": {},
   "outputs": [
    {
     "name": "stdout",
     "output_type": "stream",
     "text": [
      "Available unique classes: 55\n"
     ]
    }
   ],
   "source": [
    "base_classes = np.array([label.split('_rot')[0] for label in train_y])\n",
    "n_unique = len(np.unique(base_classes))\n",
    "print(f\"Available unique classes: {n_unique}\")"
   ]
  },
  {
   "cell_type": "markdown",
   "metadata": {
    "colab_type": "text",
    "id": "HbakTT_nFubI"
   },
   "source": [
    "## Build model"
   ]
  },
  {
   "cell_type": "markdown",
   "metadata": {
    "colab_type": "text",
    "id": "VuvH9joezgja"
   },
   "source": [
    "Модель берет на вход (28x28x3) и возвращает вектор-столбец длиной 64. Каждый модуль модели состоит из свертки 3 × 3 с 64 фильтрами, слоя пакетной нормализации, нелинейности ReLU и слоя максимального объединения 2 × 2 (см. описание задания).\n",
    "\n",
    "Применительно к изображениям Omniglot 28 × 28 эта архитектура приводит к 64-мерному выходному пространству."
   ]
  },
  {
   "cell_type": "markdown",
   "metadata": {},
   "source": [
    "### Задание № 2 - реализуйте энкодер на основе сверточной нейроннй сети"
   ]
  },
  {
   "cell_type": "code",
   "execution_count": 146,
   "metadata": {},
   "outputs": [],
   "source": [
    "class Image2Vector(nn.Module):\n",
    "    def __init__(self):\n",
    "        super(Image2Vector, self).__init__()\n",
    "        \n",
    "        self.model = nn.Sequential(\n",
    "            # Модуль 1: 28x28x3 -> 14x14x64\n",
    "            nn.Conv2d(in_channels=3, out_channels=64, kernel_size=3, padding=1),\n",
    "            nn.BatchNorm2d(64),\n",
    "            nn.ReLU(),\n",
    "            nn.MaxPool2d(kernel_size=2, stride=2),\n",
    "            \n",
    "            # Модуль 2: 14x14x64 -> 7x7x64\n",
    "            nn.Conv2d(in_channels=64, out_channels=64, kernel_size=3, padding=1),\n",
    "            nn.BatchNorm2d(64),\n",
    "            nn.ReLU(),\n",
    "            nn.MaxPool2d(kernel_size=2, stride=2),\n",
    "            \n",
    "            # Модуль 3: 7x7x64 -> 3x3x64\n",
    "            nn.Conv2d(in_channels=64, out_channels=64, kernel_size=3, padding=1),\n",
    "            nn.BatchNorm2d(64),\n",
    "            nn.ReLU(),\n",
    "            nn.MaxPool2d(kernel_size=2, stride=2),\n",
    "            \n",
    "            # Модуль 4: 3x3x64 -> 1x1x64\n",
    "            nn.Conv2d(in_channels=64, out_channels=64, kernel_size=3, padding=1),\n",
    "            nn.BatchNorm2d(64),\n",
    "            nn.ReLU(),\n",
    "            nn.MaxPool2d(kernel_size=2, stride=2),\n",
    "            \n",
    "            nn.Flatten()\n",
    "        )\n",
    "    \n",
    "    def forward(self, x):\n",
    "        return self.model(x)"
   ]
  },
  {
   "cell_type": "code",
   "execution_count": 147,
   "metadata": {},
   "outputs": [
    {
     "name": "stdout",
     "output_type": "stream",
     "text": [
      "torch.Size([5, 64])\n"
     ]
    }
   ],
   "source": [
    "# Checking\n",
    "model = Image2Vector()\n",
    "dummy_input = torch.randn(5, 3, 28, 28)  # 5 изображений в батче\n",
    "output = model(dummy_input)\n",
    "print(output.shape)  "
   ]
  },
  {
   "cell_type": "markdown",
   "metadata": {},
   "source": [
    "### Задание № 3 - реализуйте Prototypical Networks (``` set_forward_loss ```)"
   ]
  },
  {
   "cell_type": "code",
   "execution_count": 148,
   "metadata": {
    "colab": {},
    "colab_type": "code",
    "id": "FTjSYAz1WY5e"
   },
   "outputs": [],
   "source": [
    "class ProtoNet(nn.Module):\n",
    "    def __init__(self, encoder):\n",
    "        \"\"\"\n",
    "        Args:\n",
    "            encoder : CNN encoding the images in sample\n",
    "            n_way (int): number of classes in a classification task\n",
    "            n_support (int): number of labeled examples per class in the support set\n",
    "            n_query (int): number of labeled examples per class in the query set\n",
    "        \"\"\"\n",
    "        super(ProtoNet, self).__init__()\n",
    "        self.encoder = encoder.cuda()\n",
    "\n",
    "    def set_forward_loss(self, sample):\n",
    "        \"\"\"\n",
    "        Computes loss, accuracy and output for classification task\n",
    "        Args:\n",
    "            sample (torch.Tensor): shape (n_way, n_support+n_query, (dim)) \n",
    "        Returns:\n",
    "            torch.Tensor: shape(2), loss, accuracy and y_hat (predict)\n",
    "        \"\"\"\n",
    "        sample_images = sample['images']\n",
    "        n_way = sample['n_way']\n",
    "        n_support = sample['n_support']\n",
    "        n_query = sample['n_query']\n",
    "        \n",
    "        x_support = sample_images[:, :n_support]\n",
    "        x_query = sample_images[:, n_support:]\n",
    "        \n",
    "        x_support = x_support.contiguous().view(n_way * n_support, *x_support.size()[2:])\n",
    "        x_query = x_query.contiguous().view(n_way * n_query, *x_query.size()[2:])\n",
    "        \n",
    "        z_support = self.encoder(x_support)\n",
    "        z_query = self.encoder(x_query)\n",
    "        \n",
    "        z_support = z_support.view(n_way, n_support, -1)\n",
    "        prototypes = z_support.mean(dim=1)\n",
    "        \n",
    "        dists = self.euclidean_dist(z_query, prototypes)\n",
    "\n",
    "        log_p_y = F.log_softmax(-dists, dim=1)\n",
    "        y_hat = torch.argmax(log_p_y, dim=1)\n",
    "        \n",
    "        y_true = torch.arange(n_way).repeat_interleave(n_query).cuda()\n",
    "        \n",
    "        loss_val = F.nll_loss(log_p_y, y_true)\n",
    "        acc_val = (y_hat == y_true).float().mean()\n",
    "        \n",
    "        return loss_val, {\n",
    "            'loss': loss_val.item(),\n",
    "            'acc': acc_val.item(),\n",
    "            'y_hat': y_hat\n",
    "        }\n",
    "\n",
    "    @staticmethod\n",
    "    def euclidean_dist(x: torch.Tensor, y: torch.Tensor) -> torch.Tensor:\n",
    "        \"\"\"\n",
    "        Computes euclidean distance between x and y\n",
    "        Args:\n",
    "            x (Tensor): shape [n, d]\n",
    "            y (Tensor): shape [m, d]\n",
    "        Returns:\n",
    "            Tensor: distance matrix of shape [n, m]\n",
    "        \"\"\"\n",
    "        n = x.size(0)\n",
    "        m = y.size(0)\n",
    "        d = x.size(1)\n",
    "        \n",
    "        x = x.unsqueeze(1).expand(n, m, d)\n",
    "        y = y.unsqueeze(0).expand(n, m, d)\n",
    "        \n",
    "        return torch.pow(x - y, 2).sum(2)  # [n, m]"
   ]
  },
  {
   "cell_type": "code",
   "execution_count": 149,
   "metadata": {
    "colab": {},
    "colab_type": "code",
    "id": "DBzAfRyJB-3X"
   },
   "outputs": [],
   "source": [
    "def load_protonet_conv(**kwargs):\n",
    "    \"\"\"\n",
    "    Loads the prototypical network model\n",
    "    Arg:\n",
    "      x_dim (tuple): dimension of input image\n",
    "      hid_dim (int): dimension of hidden layers in conv blocks\n",
    "      z_dim (int): dimension of embedded image\n",
    "    Returns:\n",
    "      Model (Class ProtoNet)\n",
    "    \"\"\"\n",
    "    encoder = Image2Vector()\n",
    "\n",
    "    return ProtoNet(encoder)"
   ]
  },
  {
   "cell_type": "markdown",
   "metadata": {
    "colab_type": "text",
    "id": "0Fke38yY6pI9",
    "tags": []
   },
   "source": [
    "## Train"
   ]
  },
  {
   "cell_type": "markdown",
   "metadata": {},
   "source": [
    "### Задание № 4 - добавьте логирование в процесс обучения (wandb/neptune/tensorboard)"
   ]
  },
  {
   "cell_type": "code",
   "execution_count": 150,
   "metadata": {},
   "outputs": [],
   "source": [
    "def train(model, optimizer, train_x, train_y, n_way, n_support, n_query, max_epoch, epoch_size):\n",
    "    \"\"\"\n",
    "    Trains the protonet with device-aware tensors\n",
    "    \"\"\"\n",
    "    wandb.init(project=\"protonet-omniglot\", entity=\"the_nikos-mipt\")\n",
    "    wandb.watch(model)\n",
    "    \n",
    "    device = torch.device(\"cuda\" if torch.cuda.is_available() else \"cpu\")\n",
    "    model = model.to(device)\n",
    "    \n",
    "    scheduler = optim.lr_scheduler.StepLR(optimizer, 1, gamma=0.5, last_epoch=-1)\n",
    "    best_acc = 0.0\n",
    "    \n",
    "    for epoch in range(max_epoch):\n",
    "        model.train()\n",
    "        running_loss = 0.0\n",
    "        running_acc = 0.0\n",
    "        \n",
    "        for episode in tnrange(epoch_size, desc=f\"Epoch {epoch+1}\"):\n",
    "            sample = extract_sample(n_way, n_support, n_query, train_x, train_y)\n",
    "            sample['images'] = sample['images'].to(device)\n",
    "            \n",
    "            optimizer.zero_grad()\n",
    "            loss, output = model.set_forward_loss(sample)\n",
    "            \n",
    "            loss.backward()\n",
    "            optimizer.step()\n",
    "            \n",
    "            running_loss += output['loss']\n",
    "            running_acc += output['acc']\n",
    "            \n",
    "            if episode % 10 == 0:\n",
    "                wandb.log({\n",
    "                    'batch/loss': output['loss'],\n",
    "                    'batch/acc': output['acc'],\n",
    "                    'batch/lr': optimizer.param_groups[0]['lr'],\n",
    "                    'epoch': epoch\n",
    "                })\n",
    "        \n",
    "        epoch_loss = running_loss / epoch_size\n",
    "        epoch_acc = running_acc / epoch_size\n",
    "        \n",
    "        wandb.log({\n",
    "            'epoch/loss': epoch_loss,\n",
    "            'epoch/acc': epoch_acc,\n",
    "            'epoch/lr': optimizer.param_groups[0]['lr']\n",
    "        })\n",
    "        \n",
    "        print(f'Epoch {epoch+1:02d} | Loss: {epoch_loss:.4f} | Acc: {epoch_acc:.4f}')\n",
    "        \n",
    "        if epoch_acc > best_acc:\n",
    "            best_acc = epoch_acc\n",
    "            torch.save(model.state_dict(), 'best_model.pth')\n",
    "            wandb.save('best_model.pth')\n",
    "        \n",
    "        scheduler.step()\n",
    "    \n",
    "    wandb.finish()"
   ]
  },
  {
   "cell_type": "code",
   "execution_count": 151,
   "metadata": {
    "colab": {
     "base_uri": "https://localhost:8080/",
     "height": 415,
     "referenced_widgets": [
      "354ff4f3b4b345c7ad45baf14dd97697",
      "7c610bbed40d4fb39a0760b4df77eb11",
      "53a6eab0481641c9b343d046fd359bf2",
      "dec17b0625d2425185176b03d21b708d",
      "433334ef070a4ab1bfc6eece6b63be26",
      "3c2fa22131854ca2a7dfcec34d65af3b",
      "0f194ec785074660a9d6c770b21f46cc",
      "a9b59b5124194f71bb18fc7974cd83cf",
      "3ab3a4e2141b4ed39cc7d968408778ca",
      "4aa655fcf6c649af9de66384158f8c7c",
      "439f3b59d789406497d737c0b76c0156",
      "e3078c751ecc47438e93291fe5607aab",
      "ffad4c75083c4a0f8d98c5d38a1aba6d",
      "332c8800dc73423396e50c23030e8105",
      "afd69d485c10453a815faf5ead6c2b3f",
      "ca629333d0e2483c8f225b75202eaf3a",
      "6de2fbeb393949f297c34f756129e4d8",
      "62808217a43e4a3a87c8da4082b29801",
      "8fffaaff836540099e20a73f9f1f6abc",
      "fb3fb76cfab94e18950b7fa8280d6bfa",
      "6b8609a3fe9f467ea909cfe0b799da19",
      "f7adceb9304448959f8c3bf33f31e7b9",
      "07aef15d3b664adb8ffa4077ba205959",
      "581656713b1646959f70a3420fb75960",
      "bb5117fc52f6431abf7245060f2dd744",
      "f6376e0638cb4ba498ef5e7ad489cf8b",
      "46bb6b64cfa947e8922be526cfa4794b",
      "e4b1686fa03842269d519d582733589d",
      "e338741c7df649fa8e4e6d3f64a9f071",
      "4127de7c3f8a470e96c3cf1b863be977",
      "c196876b6b2745d7ba47cd3706fdf420",
      "7873a43a0ddb48d09f18c4d72b49c568",
      "c6bda37e4b0d42d682a70b496890f92f",
      "61783bd49f8844de812269790bc1041e",
      "2684d578ea46469ea0c42feaeab77fd1",
      "972ae0de8c254498aa37dd62cd604006",
      "5a8ead812af4455c9c1e8ada1b3209c5",
      "eacf30e249ac42daa5db07901bdbbe60",
      "5ffaebc261e946d29a141caaea4f5fdd",
      "0755d3d34cea44bb85d1a560618554b4"
     ]
    },
    "colab_type": "code",
    "id": "7uMy99qE-Ed6",
    "outputId": "381c6974-97a2-4d64-c849-04140e86f5fc"
   },
   "outputs": [],
   "source": [
    "model = load_protonet_conv()\n",
    "\n",
    "optimizer = optim.Adam(model.parameters(), lr=0.001)\n",
    "\n",
    "n_way = 55\n",
    "n_support = 5\n",
    "n_query = 5\n",
    "\n",
    "train_x = trainx\n",
    "train_y = trainy\n",
    "\n",
    "max_epoch = 5\n",
    "epoch_size = 2000"
   ]
  },
  {
   "cell_type": "code",
   "execution_count": 152,
   "metadata": {},
   "outputs": [
    {
     "data": {
      "text/html": [
       "Finishing previous runs because reinit is set to 'default'."
      ],
      "text/plain": [
       "<IPython.core.display.HTML object>"
      ]
     },
     "metadata": {},
     "output_type": "display_data"
    },
    {
     "data": {
      "text/html": [],
      "text/plain": [
       "<IPython.core.display.HTML object>"
      ]
     },
     "metadata": {},
     "output_type": "display_data"
    },
    {
     "data": {
      "text/html": [
       "<br>    <style><br>        .wandb-row {<br>            display: flex;<br>            flex-direction: row;<br>            flex-wrap: wrap;<br>            justify-content: flex-start;<br>            width: 100%;<br>        }<br>        .wandb-col {<br>            display: flex;<br>            flex-direction: column;<br>            flex-basis: 100%;<br>            flex: 1;<br>            padding: 10px;<br>        }<br>    </style><br><div class=\"wandb-row\"><div class=\"wandb-col\"><h3>Run history:</h3><br/><table class=\"wandb\"><tr><td>batch/acc</td><td>▁▂▂▂▃▃▃▃▄▄▄▄▄▅▅▅▅▅▆▆▆▅▆▆▆▇▇▇▇▇▇▇▇▇██▇███</td></tr><tr><td>batch/loss</td><td>██▇▇▇▇▆▆▆▆▆▆▆▆▆▅▅▄▄▃▃▃▃▃▃▃▃▃▃▂▂▃▂▁▁▂▁▁▁▁</td></tr><tr><td>batch/lr</td><td>███████████████▃▃▃▃▃▃▃▃▃▃▃▃▃▃▃▃▃▃▁▁▁▁▁▁▁</td></tr><tr><td>epoch</td><td>▁▁▁▁▁▁▁▁▁▁▁▁▁▁▅▅▅▅▅▅▅▅▅▅▅▅▅▅▅███████████</td></tr><tr><td>epoch/acc</td><td>▁█</td></tr><tr><td>epoch/loss</td><td>█▁</td></tr><tr><td>epoch/lr</td><td>█▁</td></tr></table><br/></div><div class=\"wandb-col\"><h3>Run summary:</h3><br/><table class=\"wandb\"><tr><td>batch/acc</td><td>0.84364</td></tr><tr><td>batch/loss</td><td>0.56736</td></tr><tr><td>batch/lr</td><td>0.00025</td></tr><tr><td>epoch</td><td>2</td></tr><tr><td>epoch/acc</td><td>0.68547</td></tr><tr><td>epoch/loss</td><td>1.10232</td></tr><tr><td>epoch/lr</td><td>0.0005</td></tr></table><br/></div></div>"
      ],
      "text/plain": [
       "<IPython.core.display.HTML object>"
      ]
     },
     "metadata": {},
     "output_type": "display_data"
    },
    {
     "data": {
      "text/html": [
       " View run <strong style=\"color:#cdcd00\">vital-breeze-8</strong> at: <a href='https://wandb.ai/the_nikos-mipt/protonet-omniglot/runs/gbcumszx' target=\"_blank\">https://wandb.ai/the_nikos-mipt/protonet-omniglot/runs/gbcumszx</a><br> View project at: <a href='https://wandb.ai/the_nikos-mipt/protonet-omniglot' target=\"_blank\">https://wandb.ai/the_nikos-mipt/protonet-omniglot</a><br>Synced 5 W&B file(s), 0 media file(s), 0 artifact file(s) and 1 other file(s)"
      ],
      "text/plain": [
       "<IPython.core.display.HTML object>"
      ]
     },
     "metadata": {},
     "output_type": "display_data"
    },
    {
     "data": {
      "text/html": [
       "Find logs at: <code>./wandb/run-20250602_205816-gbcumszx/logs</code>"
      ],
      "text/plain": [
       "<IPython.core.display.HTML object>"
      ]
     },
     "metadata": {},
     "output_type": "display_data"
    },
    {
     "data": {
      "text/html": [
       "Tracking run with wandb version 0.19.11"
      ],
      "text/plain": [
       "<IPython.core.display.HTML object>"
      ]
     },
     "metadata": {},
     "output_type": "display_data"
    },
    {
     "data": {
      "text/html": [
       "Run data is saved locally in <code>/home/nikos/jnotebook/ML_task4/wandb/run-20250602_210157-y12zejd1</code>"
      ],
      "text/plain": [
       "<IPython.core.display.HTML object>"
      ]
     },
     "metadata": {},
     "output_type": "display_data"
    },
    {
     "data": {
      "text/html": [
       "Syncing run <strong><a href='https://wandb.ai/the_nikos-mipt/protonet-omniglot/runs/y12zejd1' target=\"_blank\">generous-sun-9</a></strong> to <a href='https://wandb.ai/the_nikos-mipt/protonet-omniglot' target=\"_blank\">Weights & Biases</a> (<a href='https://wandb.me/developer-guide' target=\"_blank\">docs</a>)<br>"
      ],
      "text/plain": [
       "<IPython.core.display.HTML object>"
      ]
     },
     "metadata": {},
     "output_type": "display_data"
    },
    {
     "data": {
      "text/html": [
       " View project at <a href='https://wandb.ai/the_nikos-mipt/protonet-omniglot' target=\"_blank\">https://wandb.ai/the_nikos-mipt/protonet-omniglot</a>"
      ],
      "text/plain": [
       "<IPython.core.display.HTML object>"
      ]
     },
     "metadata": {},
     "output_type": "display_data"
    },
    {
     "data": {
      "text/html": [
       " View run at <a href='https://wandb.ai/the_nikos-mipt/protonet-omniglot/runs/y12zejd1' target=\"_blank\">https://wandb.ai/the_nikos-mipt/protonet-omniglot/runs/y12zejd1</a>"
      ],
      "text/plain": [
       "<IPython.core.display.HTML object>"
      ]
     },
     "metadata": {},
     "output_type": "display_data"
    },
    {
     "data": {
      "application/vnd.jupyter.widget-view+json": {
       "model_id": "8a0dbe7fad6440e5ba1d60ae180c1255",
       "version_major": 2,
       "version_minor": 0
      },
      "text/plain": [
       "Epoch 1:   0%|          | 0/2000 [00:00<?, ?it/s]"
      ]
     },
     "metadata": {},
     "output_type": "display_data"
    },
    {
     "name": "stdout",
     "output_type": "stream",
     "text": [
      "Epoch 01 | Loss: 2.3021 | Acc: 0.4151\n"
     ]
    },
    {
     "data": {
      "application/vnd.jupyter.widget-view+json": {
       "model_id": "ba819734f59e4828b30ae5a5fcb81565",
       "version_major": 2,
       "version_minor": 0
      },
      "text/plain": [
       "Epoch 2:   0%|          | 0/2000 [00:00<?, ?it/s]"
      ]
     },
     "metadata": {},
     "output_type": "display_data"
    },
    {
     "name": "stdout",
     "output_type": "stream",
     "text": [
      "Epoch 02 | Loss: 1.1692 | Acc: 0.6693\n"
     ]
    },
    {
     "data": {
      "application/vnd.jupyter.widget-view+json": {
       "model_id": "ba9e6c18db2d46e1ab325a8fb2d0a1da",
       "version_major": 2,
       "version_minor": 0
      },
      "text/plain": [
       "Epoch 3:   0%|          | 0/2000 [00:00<?, ?it/s]"
      ]
     },
     "metadata": {},
     "output_type": "display_data"
    },
    {
     "name": "stdout",
     "output_type": "stream",
     "text": [
      "Epoch 03 | Loss: 0.6824 | Acc: 0.7955\n"
     ]
    },
    {
     "data": {
      "application/vnd.jupyter.widget-view+json": {
       "model_id": "d761107c2f694d2ba46f7eb30f4c06d4",
       "version_major": 2,
       "version_minor": 0
      },
      "text/plain": [
       "Epoch 4:   0%|          | 0/2000 [00:00<?, ?it/s]"
      ]
     },
     "metadata": {},
     "output_type": "display_data"
    },
    {
     "name": "stdout",
     "output_type": "stream",
     "text": [
      "Epoch 04 | Loss: 0.4654 | Acc: 0.8570\n"
     ]
    },
    {
     "data": {
      "application/vnd.jupyter.widget-view+json": {
       "model_id": "c02c7164c3654cac84195245153f7cd6",
       "version_major": 2,
       "version_minor": 0
      },
      "text/plain": [
       "Epoch 5:   0%|          | 0/2000 [00:00<?, ?it/s]"
      ]
     },
     "metadata": {},
     "output_type": "display_data"
    },
    {
     "name": "stdout",
     "output_type": "stream",
     "text": [
      "Epoch 05 | Loss: 0.3632 | Acc: 0.8871\n"
     ]
    },
    {
     "data": {
      "text/html": [],
      "text/plain": [
       "<IPython.core.display.HTML object>"
      ]
     },
     "metadata": {},
     "output_type": "display_data"
    },
    {
     "data": {
      "text/html": [
       "<br>    <style><br>        .wandb-row {<br>            display: flex;<br>            flex-direction: row;<br>            flex-wrap: wrap;<br>            justify-content: flex-start;<br>            width: 100%;<br>        }<br>        .wandb-col {<br>            display: flex;<br>            flex-direction: column;<br>            flex-basis: 100%;<br>            flex: 1;<br>            padding: 10px;<br>        }<br>    </style><br><div class=\"wandb-row\"><div class=\"wandb-col\"><h3>Run history:</h3><br/><table class=\"wandb\"><tr><td>batch/acc</td><td>▁▂▂▃▃▃▄▄▃▃▄▅▅▅▅▅▅▅▅▆▇▆▆▆▇▇▇▇▇▇▇█▇▇▇█████</td></tr><tr><td>batch/loss</td><td>█▇▇▆▆▅▅▄▄▃▃▃▃▃▂▃▂▂▂▂▂▁▂▂▁▁▁▁▁▁▁▁▁▁▁▁▁▁▁▁</td></tr><tr><td>batch/lr</td><td>██████████▄▄▄▄▄▄▄▄▂▂▂▂▂▂▂▂▁▁▁▁▁▁▁▁▁▁▁▁▁▁</td></tr><tr><td>epoch</td><td>▁▁▁▁▁▁▁▁▁▁▃▃▃▃▃▅▅▅▅▅▅▅▅▅▅▆▆▆▆▆▆█████████</td></tr><tr><td>epoch/acc</td><td>▁▅▇██</td></tr><tr><td>epoch/loss</td><td>█▄▂▁▁</td></tr><tr><td>epoch/lr</td><td>█▄▂▁▁</td></tr></table><br/></div><div class=\"wandb-col\"><h3>Run summary:</h3><br/><table class=\"wandb\"><tr><td>batch/acc</td><td>0.90909</td></tr><tr><td>batch/loss</td><td>0.32217</td></tr><tr><td>batch/lr</td><td>6e-05</td></tr><tr><td>epoch</td><td>4</td></tr><tr><td>epoch/acc</td><td>0.88708</td></tr><tr><td>epoch/loss</td><td>0.36323</td></tr><tr><td>epoch/lr</td><td>6e-05</td></tr></table><br/></div></div>"
      ],
      "text/plain": [
       "<IPython.core.display.HTML object>"
      ]
     },
     "metadata": {},
     "output_type": "display_data"
    },
    {
     "data": {
      "text/html": [
       " View run <strong style=\"color:#cdcd00\">generous-sun-9</strong> at: <a href='https://wandb.ai/the_nikos-mipt/protonet-omniglot/runs/y12zejd1' target=\"_blank\">https://wandb.ai/the_nikos-mipt/protonet-omniglot/runs/y12zejd1</a><br> View project at: <a href='https://wandb.ai/the_nikos-mipt/protonet-omniglot' target=\"_blank\">https://wandb.ai/the_nikos-mipt/protonet-omniglot</a><br>Synced 5 W&B file(s), 0 media file(s), 0 artifact file(s) and 1 other file(s)"
      ],
      "text/plain": [
       "<IPython.core.display.HTML object>"
      ]
     },
     "metadata": {},
     "output_type": "display_data"
    },
    {
     "data": {
      "text/html": [
       "Find logs at: <code>./wandb/run-20250602_210157-y12zejd1/logs</code>"
      ],
      "text/plain": [
       "<IPython.core.display.HTML object>"
      ]
     },
     "metadata": {},
     "output_type": "display_data"
    },
    {
     "name": "stdout",
     "output_type": "stream",
     "text": [
      "CPU times: user 28min 18s, sys: 22.7 s, total: 28min 41s\n",
      "Wall time: 7min 19s\n"
     ]
    }
   ],
   "source": [
    "%%time\n",
    "\n",
    "train(model, optimizer, train_x, train_y, n_way, n_support, n_query, max_epoch, epoch_size)"
   ]
  },
  {
   "cell_type": "markdown",
   "metadata": {
    "colab_type": "text",
    "id": "pJu50gOb8WxU"
   },
   "source": [
    "## Test"
   ]
  },
  {
   "cell_type": "code",
   "execution_count": 153,
   "metadata": {
    "colab": {},
    "colab_type": "code",
    "id": "qCgoOcCaERHH"
   },
   "outputs": [],
   "source": [
    "def test(model, test_x, test_y, n_way, n_support, n_query, test_episode):\n",
    "    \"\"\"\n",
    "    Tests the protonet\n",
    "    Args:\n",
    "      model: trained model\n",
    "      test_x (np.array): images of testing set\n",
    "      test_y (np.array): labels of testing set\n",
    "      n_way (int): number of classes in a classification task\n",
    "      n_support (int): number of labeled examples per class in the support set\n",
    "      n_query (int): number of labeled examples per class in the query set\n",
    "      test_episode (int): number of episodes to test on\n",
    "    \"\"\"\n",
    "    running_loss = 0.0\n",
    "    running_acc = 0.0\n",
    "    for episode in tnrange(test_episode):\n",
    "        sample = extract_sample(n_way, n_support, n_query, test_x, test_y)\n",
    "        sample['images'] = sample['images'].to(device)\n",
    "        loss, output = model.set_forward_loss(sample)\n",
    "        running_loss += output['loss']\n",
    "        running_acc += output['acc']\n",
    "        \n",
    "    avg_loss = running_loss / test_episode\n",
    "    avg_acc = running_acc / test_episode\n",
    "    print('Test results -- Loss: {:.4f} Acc: {:.4f}'.format(avg_loss, avg_acc))"
   ]
  },
  {
   "cell_type": "code",
   "execution_count": 162,
   "metadata": {
    "colab": {
     "base_uri": "https://localhost:8080/",
     "height": 136,
     "referenced_widgets": [
      "3538da61a2cf40a59ec5df42b1e26a34",
      "0b8997593eda4dfc9d8864bb479600ea",
      "76f6236cddda43288fbe15c6cb9ca931",
      "3deca364207045bb910b85dd3cb8b95d",
      "452720b5c47c4f2591cc2474da697b5f",
      "8c13a9024b7645b7a556a750459aa40f",
      "5df809cf3af640e88e455d0270dbc646",
      "e0159f02b312472889bba9086f2cc881"
     ]
    },
    "colab_type": "code",
    "id": "yvyja6x3I6JB",
    "outputId": "3217c86f-5817-420e-d417-21a4af6546b9"
   },
   "outputs": [],
   "source": [
    "n_way = 2\n",
    "n_support = 5\n",
    "n_query = 5\n",
    "\n",
    "test_x = testx\n",
    "test_y = testy\n",
    "\n",
    "test_episode = 1000"
   ]
  },
  {
   "cell_type": "code",
   "execution_count": 163,
   "metadata": {},
   "outputs": [
    {
     "data": {
      "application/vnd.jupyter.widget-view+json": {
       "model_id": "df10c40e5af0409fa4dd80c7ef1e052f",
       "version_major": 2,
       "version_minor": 0
      },
      "text/plain": [
       "  0%|          | 0/1000 [00:00<?, ?it/s]"
      ]
     },
     "metadata": {},
     "output_type": "display_data"
    },
    {
     "name": "stdout",
     "output_type": "stream",
     "text": [
      "Test results -- Loss: 1.7521 Acc: 0.5374\n"
     ]
    }
   ],
   "source": [
    "test(model, test_x, test_y, n_way, n_support, n_query, test_episode)"
   ]
  },
  {
   "cell_type": "markdown",
   "metadata": {
    "colab_type": "text",
    "id": "nOH0sg_7EKUW"
   },
   "source": [
    "## Test on specific example"
   ]
  },
  {
   "cell_type": "code",
   "execution_count": 164,
   "metadata": {
    "colab": {
     "base_uri": "https://localhost:8080/",
     "height": 448
    },
    "colab_type": "code",
    "id": "eO8PcZ_F0ZWc",
    "outputId": "7bd3921e-7dad-497f-abd9-5b9a042f44ec"
   },
   "outputs": [
    {
     "name": "stderr",
     "output_type": "stream",
     "text": [
      "Clipping input data to the valid range for imshow with RGB data ([0..1] for floats or [0..255] for integers). Got range [0.0..255.0].\n"
     ]
    },
    {
     "data": {
      "image/png": "[encoded data removed]",
      "text/plain": [
       "<Figure size 1600x700 with 1 Axes>"
      ]
     },
     "metadata": {},
     "output_type": "display_data"
    }
   ],
   "source": [
    "my_sample = extract_sample(n_way, n_support, n_query, test_x, test_y)\n",
    "display_sample(my_sample['images'])"
   ]
  },
  {
   "cell_type": "markdown",
   "metadata": {},
   "source": [
    "### Задание № 5 - добавьте функцию для визуализации предсказания с тестирования\n",
    "\n"
   ]
  },
  {
   "cell_type": "code",
   "execution_count": 165,
   "metadata": {},
   "outputs": [],
   "source": [
    "def visualize_predictions(model, test_x, test_y, n_way=5, n_support=1, n_query=5, num_visualizations=3):\n",
    "    \"\"\"\n",
    "    Визуализирует предсказания модели на тестовых данных с автоматической настройкой perplexity\n",
    "    \"\"\"\n",
    "    device = next(model.parameters()).device\n",
    "    model.eval()\n",
    "    \n",
    "    for vis_idx in range(num_visualizations):\n",
    "        sample = extract_sample(n_way, n_support, n_query, test_x, test_y)\n",
    "        sample['images'] = sample['images'].to(device)\n",
    "        \n",
    "        with torch.no_grad():\n",
    "            _, output = model.set_forward_loss(sample)\n",
    "            y_hat = output['y_hat']\n",
    "            \n",
    "            x_support = sample['images'][:, :n_support]\n",
    "            x_query = sample['images'][:, n_support:]\n",
    "            \n",
    "            x_support = x_support.contiguous().view(n_way * n_support, *x_support.size()[2:])\n",
    "            x_query = x_query.contiguous().view(n_way * n_query, *x_query.size()[2:])\n",
    "            \n",
    "            z_support = model.encoder(x_support)\n",
    "            z_query = model.encoder(x_query)\n",
    "            \n",
    "            embeddings = torch.cat([z_support, z_query], dim=0).cpu().numpy()\n",
    "            n_samples = embeddings.shape[0]\n",
    "            \n",
    "            perplexity = min(30, n_samples - 1)\n",
    "            \n",
    "            tsne = TSNE(n_components=2, \n",
    "                       perplexity=perplexity,\n",
    "                       random_state=42,\n",
    "                       init='pca')\n",
    "            \n",
    "            try:\n",
    "                embeddings_2d = tsne.fit_transform(embeddings)\n",
    "            except Exception as e:\n",
    "                print(f\"Ошибка t-SNE: {e}\")\n",
    "                continue\n",
    "                \n",
    "            plt.figure(figsize=(12, 8))\n",
    "            \n",
    "            for i in range(n_way):\n",
    "                class_points = embeddings_2d[i*n_support:(i+1)*n_support]\n",
    "                plt.scatter(class_points[:, 0], class_points[:, 1], \n",
    "                           label=f'Class {i} Support', s=150, marker='o', alpha=0.7)\n",
    "            \n",
    "            for i in range(n_way*n_query):\n",
    "                point = embeddings_2d[n_way*n_support + i]\n",
    "                true_class = i // n_query\n",
    "                pred_class = y_hat[i].item()\n",
    "                color = 'green' if pred_class == true_class else 'red'\n",
    "                marker = 'x' if pred_class == true_class else '^'\n",
    "                plt.scatter(point[0], point[1], color=color, s=100, marker=marker)\n",
    "            \n",
    "            plt.title(f\"Предсказания модели (Пример {vis_idx+1})\\nТочность: {output['acc']:.2f}\")\n",
    "            plt.legend(bbox_to_anchor=(1.05, 1), loc='upper left')\n",
    "            plt.tight_layout()\n",
    "            plt.show()"
   ]
  },
  {
   "cell_type": "code",
   "execution_count": 167,
   "metadata": {},
   "outputs": [
    {
     "data": {
      "image/png": "[encoded data removed]",
      "text/plain": [
       "<Figure size 1200x800 with 1 Axes>"
      ]
     },
     "metadata": {},
     "output_type": "display_data"
    },
    {
     "data": {
      "image/png": "[encoded data removed]",
      "text/plain": [
       "<Figure size 1200x800 with 1 Axes>"
      ]
     },
     "metadata": {},
     "output_type": "display_data"
    },
    {
     "data": {
      "image/png": "[encoded data removed]",
      "text/plain": [
       "<Figure size 1200x800 with 1 Axes>"
      ]
     },
     "metadata": {},
     "output_type": "display_data"
    }
   ],
   "source": [
    "visualize_predictions(\n",
    "    model=model,\n",
    "    test_x=testx,\n",
    "    test_y=testy,\n",
    "    n_way=2,\n",
    "    n_support=1,\n",
    "    n_query=5,\n",
    "    num_visualizations=3\n",
    ")"
   ]
  },
  {
   "cell_type": "markdown",
   "metadata": {},
   "source": [
    "# Задание 6: Downstream task\n",
    "\n",
    "## Задание 6.1\n",
    "Ваша задача обучить заданную вами модель CNN методом SimCLR для набора данных CIFAR10, а затем использовать обученный энкодер для решения задачи классификации.\n",
    "\n",
    "**Примечание:**\n",
    "- В качестве базового энкодера можете использовать модель из семинара выше (```resnet18```) или определить свою сеть. **Рекомендуется** использовать уже предобученные сети из [torch zoo](https://pytorch.org/vision/stable/models.html).\n",
    "- В качестве обучающего множества для задачи классификации воспользуйетсь ```X_test```, ```y_test```, которые были определены в самом начале ноутбука. Создайте обучающую и валидационную выборку.\n",
    "- В новой CNN для задачи классификации требуется обучить только полносвязные слои после энкодера. Для этого вам потребуется \"заморозить\" веса энкодера и не учить их. Сделать это можно с помощью команды: \n",
    "```python\n",
    "for p in encoder.parameters():\n",
    "    p.requires_grad = False  \n",
    "```\n",
    "- Процесс обучения модели можно взять из предыдущего семинара\n",
    "\n",
    "## Задание 6.2\n",
    "\n",
    "Сравните полученный результат обучения c и без использования метода SimCLR."
   ]
  },
  {
   "cell_type": "code",
   "execution_count": 176,
   "metadata": {},
   "outputs": [],
   "source": [
    "import torch\n",
    "import torch.nn as nn\n",
    "import torch.optim as optim\n",
    "import torchvision\n",
    "import torchvision.transforms as transforms\n",
    "from torchvision.models import resnet18\n",
    "from tqdm import tqdm\n",
    "import numpy as np\n",
    "from copy import deepcopy\n",
    "\n",
    "def get_simclr_transform():\n",
    "    color_jitter = transforms.ColorJitter(0.8, 0.8, 0.8, 0.2)\n",
    "    transform = transforms.Compose([\n",
    "        transforms.RandomResizedCrop(32),\n",
    "        transforms.RandomHorizontalFlip(),\n",
    "        transforms.RandomApply([color_jitter], p=0.8),\n",
    "        transforms.RandomGrayscale(p=0.2),\n",
    "        # Убрали ToTensor, так как данные уже тензоры\n",
    "        transforms.Normalize((0.4914, 0.4822, 0.4465), (0.2023, 0.1994, 0.2010))\n",
    "    ])\n",
    "    return transform\n",
    "\n",
    "simclr_transform = get_simclr_transform()\n",
    "\n",
    "\n",
    "class SimCLRModel(nn.Module):\n",
    "    def __init__(self, base_encoder):\n",
    "        super(SimCLRModel, self).__init__()\n",
    "        self.encoder = base_encoder(pretrained=False)\n",
    "        self.encoder.conv1 = nn.Conv2d(3, 64, kernel_size=3, stride=1, padding=1, bias=False)\n",
    "        self.encoder.maxpool = nn.Identity()\n",
    "        self.encoder.fc = nn.Identity()\n",
    "        \n",
    "        self.projection = nn.Sequential(\n",
    "            nn.Linear(512, 512),\n",
    "            nn.ReLU(),\n",
    "            nn.Linear(512, 128)\n",
    "        )\n",
    "        \n",
    "    def forward(self, x):\n",
    "        h = self.encoder(x)\n",
    "        z = self.projection(h)\n",
    "        return h, z\n",
    "\n",
    "def nt_xent_loss(z1, z2, temperature=0.5):\n",
    "    batch_size = z1.shape[0]\n",
    "    \n",
    "    z = torch.cat([z1, z2], dim=0)\n",
    "    \n",
    "    z = nn.functional.normalize(z, dim=1)\n",
    "    \n",
    "    sim = torch.matmul(z, z.T) / temperature\n",
    "    \n",
    "    mask = torch.eye(2 * batch_size, dtype=torch.bool, device=z.device)\n",
    "    mask = mask.fill_diagonal_(0)\n",
    "    \n",
    "    pos_mask = torch.zeros_like(sim, dtype=torch.bool, device=z.device)\n",
    "    pos_mask[:batch_size, batch_size:] = torch.eye(batch_size, dtype=torch.bool, device=z.device)\n",
    "    pos_mask[batch_size:, :batch_size] = torch.eye(batch_size, dtype=torch.bool, device=z.device)\n",
    "    \n",
    "    pos_sim = sim[pos_mask].unsqueeze(1)\n",
    "    neg_sim = sim[mask].reshape(2 * batch_size, -1)\n",
    "    \n",
    "    logits = torch.cat([pos_sim, neg_sim], dim=1)\n",
    "    labels = torch.zeros(2 * batch_size, dtype=torch.long, device=z.device)\n",
    "    \n",
    "    loss = nn.CrossEntropyLoss()(logits, labels)\n",
    "    return loss\n",
    "\n",
    "def train_simclr(model, train_loader, optimizer, transform, epochs=100):\n",
    "    model.train()\n",
    "    for epoch in range(epochs):\n",
    "        total_loss = 0\n",
    "        for (x, _) in tqdm(train_loader, desc=f'Epoch {epoch+1}/{epochs}'):\n",
    "            x = x.cuda()\n",
    "            \n",
    "            x1 = transform(x)\n",
    "            x2 = transform(x)\n",
    "            \n",
    "            _, z1 = model(x1)\n",
    "            _, z2 = model(x2)\n",
    "            \n",
    "            loss = nt_xent_loss(z1, z2)\n",
    "            \n",
    "            optimizer.zero_grad()\n",
    "            loss.backward()\n",
    "            optimizer.step()\n",
    "            \n",
    "            total_loss += loss.item()\n",
    "        \n",
    "        print(f'Epoch {epoch+1}, Loss: {total_loss/len(train_loader)}')\n",
    "    \n",
    "    return model\n",
    "\n",
    "\n",
    "class Classifier(nn.Module):\n",
    "    def __init__(self, encoder, num_classes=10):\n",
    "        super(Classifier, self).__init__()\n",
    "        self.encoder = encoder\n",
    "        for p in self.encoder.parameters():\n",
    "            p.requires_grad = False\n",
    "        self.fc = nn.Linear(512, num_classes)\n",
    "        \n",
    "    def forward(self, x):\n",
    "        h = self.encoder(x)\n",
    "        return self.fc(h)\n",
    "\n",
    "\n",
    "def train_classifier(model, train_loader, val_loader, epochs=50):\n",
    "    criterion = nn.CrossEntropyLoss()\n",
    "    optimizer = optim.Adam(model.fc.parameters(), lr=1e-3)\n",
    "    best_acc = 0\n",
    "    best_model = None\n",
    "    \n",
    "    for epoch in range(epochs):\n",
    "        model.train()\n",
    "        train_loss = 0\n",
    "        correct = 0\n",
    "        total = 0\n",
    "        \n",
    "        for (x, y) in tqdm(train_loader, desc=f'Epoch {epoch+1}/{epochs}'):\n",
    "            x, y = x.cuda(), y.cuda()\n",
    "            outputs = model(x)\n",
    "            loss = criterion(outputs, y)\n",
    "            \n",
    "            optimizer.zero_grad()\n",
    "            loss.backward()\n",
    "            optimizer.step()\n",
    "            \n",
    "            train_loss += loss.item()\n",
    "            _, predicted = outputs.max(1)\n",
    "            total += y.size(0)\n",
    "            correct += predicted.eq(y).sum().item()\n",
    "        \n",
    "        train_acc = 100 * correct / total\n",
    "        val_acc = evaluate(model, val_loader)\n",
    "        \n",
    "        print(f'Epoch {epoch+1}: Train Loss: {train_loss/len(train_loader):.3f}, '\n",
    "              f'Train Acc: {train_acc:.2f}%, Val Acc: {val_acc:.2f}%')\n",
    "        \n",
    "        if val_acc > best_acc:\n",
    "            best_acc = val_acc\n",
    "            best_model = deepcopy(model.state_dict())\n",
    "    \n",
    "    model.load_state_dict(best_model)\n",
    "    return model\n",
    "    \n",
    "\n",
    "def evaluate(model, loader):\n",
    "    model.eval()\n",
    "    correct = 0\n",
    "    total = 0\n",
    "    with torch.no_grad():\n",
    "        for (x, y) in loader:\n",
    "            x, y = x.cuda(), y.cuda()\n",
    "            outputs = model(x)\n",
    "            _, predicted = outputs.max(1)\n",
    "            total += y.size(0)\n",
    "            correct += predicted.eq(y).sum().item()\n",
    "    return 100 * correct / total\n",
    "\n",
    "\n",
    "\n",
    "if __name__ == \"__main__\":\n",
    "\n",
    "    train_transform = transforms.Compose([\n",
    "        transforms.RandomHorizontalFlip(),\n",
    "        transforms.ToTensor(),\n",
    "        transforms.Normalize((0.4914, 0.4822, 0.4465), (0.2023, 0.1994, 0.2010))\n",
    "    ])\n",
    "    \n",
    "    test_transform = transforms.Compose([\n",
    "        transforms.ToTensor(),\n",
    "        transforms.Normalize((0.4914, 0.4822, 0.4465), (0.2023, 0.1994, 0.2010))\n",
    "    ])\n",
    "    \n",
    "    train_dataset = torchvision.datasets.CIFAR10(root='./data', train=True, download=True, transform=train_transform)\n",
    "    test_dataset = torchvision.datasets.CIFAR10(root='./data', train=False, download=True, transform=test_transform)\n",
    "    \n",
    "    train_loader = torch.utils.data.DataLoader(train_dataset, batch_size=256, shuffle=True)\n",
    "    test_loader = torch.utils.data.DataLoader(test_dataset, batch_size=256, shuffle=False)\n",
    "    \n",
    "    print(\"Training SimCLR...\")\n",
    "    simclr_model = SimCLRModel(resnet18).cuda()\n",
    "    optimizer = optim.Adam(simclr_model.parameters(), lr=1e-3)\n",
    "    simclr_model = train_simclr(simclr_model, train_loader, optimizer, simclr_transform, epochs=50)\n",
    "    \n",
    "    print(\"\\nTraining classifier with SimCLR features...\")\n",
    "    classifier_simclr = Classifier(simclr_model.encoder).cuda()\n",
    "    classifier_simclr = train_classifier(classifier_simclr, train_loader, test_loader)\n",
    "    \n",
    "    print(\"\\nTraining baseline classifier...\")\n",
    "    encoder = resnet18(pretrained=False)\n",
    "    encoder.conv1 = nn.Conv2d(3, 64, kernel_size=3, stride=1, padding=1, bias=False)\n",
    "    encoder.maxpool = nn.Identity()\n",
    "    encoder.fc = nn.Identity()\n",
    "    classifier_baseline = Classifier(encoder).cuda()\n",
    "    classifier_baseline = train_classifier(classifier_baseline, train_loader, test_loader)\n",
    "    \n",
    "    simclr_acc = evaluate(classifier_simclr, test_loader)\n",
    "    baseline_acc = evaluate(classifier_baseline, test_loader)\n",
    "    \n",
    "    print(f'\\nTest Accuracy with SimCLR: {simclr_acc:.2f}%')\n",
    "    print(f'Test Accuracy without SimCLR: {baseline_acc:.2f}%')"
   ]
  },
  {
   "cell_type": "code",
   "execution_count": null,
   "metadata": {},
   "outputs": [],
   "source": []
  }
 ],
 "metadata": {
  "accelerator": "GPU",
  "colab": {
   "authorship_tag": "ABX9TyPAtXl90T5jDI8j5NvKrhdF",
   "collapsed_sections": [],
   "include_colab_link": true,
   "name": "prototypical_networks_pytorch_omniglot.ipynb",
   "provenance": [],
   "toc_visible": true
  },
  "kernelspec": {
   "display_name": "Python 3 (ipykernel)",
   "language": "python",
   "name": "python3"
  },
  "language_info": {
   "codemirror_mode": {
    "name": "ipython",
    "version": 3
   },
   "file_extension": ".py",
   "mimetype": "text/x-python",
   "name": "python",
   "nbconvert_exporter": "python",
   "pygments_lexer": "ipython3",
   "version": "3.11.11"
  },
  "widgets": {
   "application/vnd.jupyter.widget-state+json": {
    "0755d3d34cea44bb85d1a560618554b4": {
     "model_module": "@jupyter-widgets/base",
     "model_name": "LayoutModel",
     "state": {
      "_model_module": "@jupyter-widgets/base",
      "_model_module_version": "1.2.0",
      "_model_name": "LayoutModel",
      "_view_count": null,
      "_view_module": "@jupyter-widgets/base",
      "_view_module_version": "1.2.0",
      "_view_name": "LayoutView",
      "align_content": null,
      "align_items": null,
      "align_self": null,
      "border": null,
      "bottom": null,
      "display": null,
      "flex": null,
      "flex_flow": null,
      "grid_area": null,
      "grid_auto_columns": null,
      "grid_auto_flow": null,
      "grid_auto_rows": null,
      "grid_column": null,
      "grid_gap": null,
      "grid_row": null,
      "grid_template_areas": null,
      "grid_template_columns": null,
      "grid_template_rows": null,
      "height": null,
      "justify_content": null,
      "justify_items": null,
      "left": null,
      "margin": null,
      "max_height": null,
      "max_width": null,
      "min_height": null,
      "min_width": null,
      "object_fit": null,
      "object_position": null,
      "order": null,
      "overflow": null,
      "overflow_x": null,
      "overflow_y": null,
      "padding": null,
      "right": null,
      "top": null,
      "visibility": null,
      "width": null
     }
    },
    "07aef15d3b664adb8ffa4077ba205959": {
     "model_module": "@jupyter-widgets/controls",
     "model_name": "DescriptionStyleModel",
     "state": {
      "_model_module": "@jupyter-widgets/controls",
      "_model_module_version": "1.5.0",
      "_model_name": "DescriptionStyleModel",
      "_view_count": null,
      "_view_module": "@jupyter-widgets/base",
      "_view_module_version": "1.2.0",
      "_view_name": "StyleView",
      "description_width": ""
     }
    },
    "0b8997593eda4dfc9d8864bb479600ea": {
     "model_module": "@jupyter-widgets/base",
     "model_name": "LayoutModel",
     "state": {
      "_model_module": "@jupyter-widgets/base",
      "_model_module_version": "1.2.0",
      "_model_name": "LayoutModel",
      "_view_count": null,
      "_view_module": "@jupyter-widgets/base",
      "_view_module_version": "1.2.0",
      "_view_name": "LayoutView",
      "align_content": null,
      "align_items": null,
      "align_self": null,
      "border": null,
      "bottom": null,
      "display": null,
      "flex": null,
      "flex_flow": null,
      "grid_area": null,
      "grid_auto_columns": null,
      "grid_auto_flow": null,
      "grid_auto_rows": null,
      "grid_column": null,
      "grid_gap": null,
      "grid_row": null,
      "grid_template_areas": null,
      "grid_template_columns": null,
      "grid_template_rows": null,
      "height": null,
      "justify_content": null,
      "justify_items": null,
      "left": null,
      "margin": null,
      "max_height": null,
      "max_width": null,
      "min_height": null,
      "min_width": null,
      "object_fit": null,
      "object_position": null,
      "order": null,
      "overflow": null,
      "overflow_x": null,
      "overflow_y": null,
      "padding": null,
      "right": null,
      "top": null,
      "visibility": null,
      "width": null
     }
    },
    "0f194ec785074660a9d6c770b21f46cc": {
     "model_module": "@jupyter-widgets/controls",
     "model_name": "DescriptionStyleModel",
     "state": {
      "_model_module": "@jupyter-widgets/controls",
      "_model_module_version": "1.5.0",
      "_model_name": "DescriptionStyleModel",
      "_view_count": null,
      "_view_module": "@jupyter-widgets/base",
      "_view_module_version": "1.2.0",
      "_view_name": "StyleView",
      "description_width": ""
     }
    },
    "2684d578ea46469ea0c42feaeab77fd1": {
     "model_module": "@jupyter-widgets/controls",
     "model_name": "FloatProgressModel",
     "state": {
      "_dom_classes": [],
      "_model_module": "@jupyter-widgets/controls",
      "_model_module_version": "1.5.0",
      "_model_name": "FloatProgressModel",
      "_view_count": null,
      "_view_module": "@jupyter-widgets/controls",
      "_view_module_version": "1.5.0",
      "_view_name": "ProgressView",
      "bar_style": "success",
      "description": "Epoch 5 train: 100%",
      "description_tooltip": null,
      "layout": "IPY_MODEL_eacf30e249ac42daa5db07901bdbbe60",
      "max": 2000,
      "min": 0,
      "orientation": "horizontal",
      "style": "IPY_MODEL_5a8ead812af4455c9c1e8ada1b3209c5",
      "value": 2000
     }
    },
    "332c8800dc73423396e50c23030e8105": {
     "model_module": "@jupyter-widgets/base",
     "model_name": "LayoutModel",
     "state": {
      "_model_module": "@jupyter-widgets/base",
      "_model_module_version": "1.2.0",
      "_model_name": "LayoutModel",
      "_view_count": null,
      "_view_module": "@jupyter-widgets/base",
      "_view_module_version": "1.2.0",
      "_view_name": "LayoutView",
      "align_content": null,
      "align_items": null,
      "align_self": null,
      "border": null,
      "bottom": null,
      "display": null,
      "flex": null,
      "flex_flow": null,
      "grid_area": null,
      "grid_auto_columns": null,
      "grid_auto_flow": null,
      "grid_auto_rows": null,
      "grid_column": null,
      "grid_gap": null,
      "grid_row": null,
      "grid_template_areas": null,
      "grid_template_columns": null,
      "grid_template_rows": null,
      "height": null,
      "justify_content": null,
      "justify_items": null,
      "left": null,
      "margin": null,
      "max_height": null,
      "max_width": null,
      "min_height": null,
      "min_width": null,
      "object_fit": null,
      "object_position": null,
      "order": null,
      "overflow": null,
      "overflow_x": null,
      "overflow_y": null,
      "padding": null,
      "right": null,
      "top": null,
      "visibility": null,
      "width": null
     }
    },
    "3538da61a2cf40a59ec5df42b1e26a34": {
     "model_module": "@jupyter-widgets/controls",
     "model_name": "HBoxModel",
     "state": {
      "_dom_classes": [],
      "_model_module": "@jupyter-widgets/controls",
      "_model_module_version": "1.5.0",
      "_model_name": "HBoxModel",
      "_view_count": null,
      "_view_module": "@jupyter-widgets/controls",
      "_view_module_version": "1.5.0",
      "_view_name": "HBoxView",
      "box_style": "",
      "children": [
       "IPY_MODEL_76f6236cddda43288fbe15c6cb9ca931",
       "IPY_MODEL_3deca364207045bb910b85dd3cb8b95d"
      ],
      "layout": "IPY_MODEL_0b8997593eda4dfc9d8864bb479600ea"
     }
    },
    "354ff4f3b4b345c7ad45baf14dd97697": {
     "model_module": "@jupyter-widgets/controls",
     "model_name": "HBoxModel",
     "state": {
      "_dom_classes": [],
      "_model_module": "@jupyter-widgets/controls",
      "_model_module_version": "1.5.0",
      "_model_name": "HBoxModel",
      "_view_count": null,
      "_view_module": "@jupyter-widgets/controls",
      "_view_module_version": "1.5.0",
      "_view_name": "HBoxView",
      "box_style": "",
      "children": [
       "IPY_MODEL_53a6eab0481641c9b343d046fd359bf2",
       "IPY_MODEL_dec17b0625d2425185176b03d21b708d"
      ],
      "layout": "IPY_MODEL_7c610bbed40d4fb39a0760b4df77eb11"
     }
    },
    "3ab3a4e2141b4ed39cc7d968408778ca": {
     "model_module": "@jupyter-widgets/controls",
     "model_name": "HBoxModel",
     "state": {
      "_dom_classes": [],
      "_model_module": "@jupyter-widgets/controls",
      "_model_module_version": "1.5.0",
      "_model_name": "HBoxModel",
      "_view_count": null,
      "_view_module": "@jupyter-widgets/controls",
      "_view_module_version": "1.5.0",
      "_view_name": "HBoxView",
      "box_style": "",
      "children": [
       "IPY_MODEL_439f3b59d789406497d737c0b76c0156",
       "IPY_MODEL_e3078c751ecc47438e93291fe5607aab"
      ],
      "layout": "IPY_MODEL_4aa655fcf6c649af9de66384158f8c7c"
     }
    },
    "3c2fa22131854ca2a7dfcec34d65af3b": {
     "model_module": "@jupyter-widgets/base",
     "model_name": "LayoutModel",
     "state": {
      "_model_module": "@jupyter-widgets/base",
      "_model_module_version": "1.2.0",
      "_model_name": "LayoutModel",
      "_view_count": null,
      "_view_module": "@jupyter-widgets/base",
      "_view_module_version": "1.2.0",
      "_view_name": "LayoutView",
      "align_content": null,
      "align_items": null,
      "align_self": null,
      "border": null,
      "bottom": null,
      "display": null,
      "flex": null,
      "flex_flow": null,
      "grid_area": null,
      "grid_auto_columns": null,
      "grid_auto_flow": null,
      "grid_auto_rows": null,
      "grid_column": null,
      "grid_gap": null,
      "grid_row": null,
      "grid_template_areas": null,
      "grid_template_columns": null,
      "grid_template_rows": null,
      "height": null,
      "justify_content": null,
      "justify_items": null,
      "left": null,
      "margin": null,
      "max_height": null,
      "max_width": null,
      "min_height": null,
      "min_width": null,
      "object_fit": null,
      "object_position": null,
      "order": null,
      "overflow": null,
      "overflow_x": null,
      "overflow_y": null,
      "padding": null,
      "right": null,
      "top": null,
      "visibility": null,
      "width": null
     }
    },
    "3deca364207045bb910b85dd3cb8b95d": {
     "model_module": "@jupyter-widgets/controls",
     "model_name": "HTMLModel",
     "state": {
      "_dom_classes": [],
      "_model_module": "@jupyter-widgets/controls",
      "_model_module_version": "1.5.0",
      "_model_name": "HTMLModel",
      "_view_count": null,
      "_view_module": "@jupyter-widgets/controls",
      "_view_module_version": "1.5.0",
      "_view_name": "HTMLView",
      "description": "",
      "description_tooltip": null,
      "layout": "IPY_MODEL_e0159f02b312472889bba9086f2cc881",
      "placeholder": "​",
      "style": "IPY_MODEL_5df809cf3af640e88e455d0270dbc646",
      "value": " 1000/1000 [22:56&lt;00:00,  1.38s/it]"
     }
    },
    "4127de7c3f8a470e96c3cf1b863be977": {
     "model_module": "@jupyter-widgets/base",
     "model_name": "LayoutModel",
     "state": {
      "_model_module": "@jupyter-widgets/base",
      "_model_module_version": "1.2.0",
      "_model_name": "LayoutModel",
      "_view_count": null,
      "_view_module": "@jupyter-widgets/base",
      "_view_module_version": "1.2.0",
      "_view_name": "LayoutView",
      "align_content": null,
      "align_items": null,
      "align_self": null,
      "border": null,
      "bottom": null,
      "display": null,
      "flex": null,
      "flex_flow": null,
      "grid_area": null,
      "grid_auto_columns": null,
      "grid_auto_flow": null,
      "grid_auto_rows": null,
      "grid_column": null,
      "grid_gap": null,
      "grid_row": null,
      "grid_template_areas": null,
      "grid_template_columns": null,
      "grid_template_rows": null,
      "height": null,
      "justify_content": null,
      "justify_items": null,
      "left": null,
      "margin": null,
      "max_height": null,
      "max_width": null,
      "min_height": null,
      "min_width": null,
      "object_fit": null,
      "object_position": null,
      "order": null,
      "overflow": null,
      "overflow_x": null,
      "overflow_y": null,
      "padding": null,
      "right": null,
      "top": null,
      "visibility": null,
      "width": null
     }
    },
    "433334ef070a4ab1bfc6eece6b63be26": {
     "model_module": "@jupyter-widgets/controls",
     "model_name": "ProgressStyleModel",
     "state": {
      "_model_module": "@jupyter-widgets/controls",
      "_model_module_version": "1.5.0",
      "_model_name": "ProgressStyleModel",
      "_view_count": null,
      "_view_module": "@jupyter-widgets/base",
      "_view_module_version": "1.2.0",
      "_view_name": "StyleView",
      "bar_color": null,
      "description_width": "initial"
     }
    },
    "439f3b59d789406497d737c0b76c0156": {
     "model_module": "@jupyter-widgets/controls",
     "model_name": "FloatProgressModel",
     "state": {
      "_dom_classes": [],
      "_model_module": "@jupyter-widgets/controls",
      "_model_module_version": "1.5.0",
      "_model_name": "FloatProgressModel",
      "_view_count": null,
      "_view_module": "@jupyter-widgets/controls",
      "_view_module_version": "1.5.0",
      "_view_name": "ProgressView",
      "bar_style": "success",
      "description": "Epoch 2 train: 100%",
      "description_tooltip": null,
      "layout": "IPY_MODEL_332c8800dc73423396e50c23030e8105",
      "max": 2000,
      "min": 0,
      "orientation": "horizontal",
      "style": "IPY_MODEL_ffad4c75083c4a0f8d98c5d38a1aba6d",
      "value": 2000
     }
    },
    "452720b5c47c4f2591cc2474da697b5f": {
     "model_module": "@jupyter-widgets/controls",
     "model_name": "ProgressStyleModel",
     "state": {
      "_model_module": "@jupyter-widgets/controls",
      "_model_module_version": "1.5.0",
      "_model_name": "ProgressStyleModel",
      "_view_count": null,
      "_view_module": "@jupyter-widgets/base",
      "_view_module_version": "1.2.0",
      "_view_name": "StyleView",
      "bar_color": null,
      "description_width": "initial"
     }
    },
    "46bb6b64cfa947e8922be526cfa4794b": {
     "model_module": "@jupyter-widgets/controls",
     "model_name": "FloatProgressModel",
     "state": {
      "_dom_classes": [],
      "_model_module": "@jupyter-widgets/controls",
      "_model_module_version": "1.5.0",
      "_model_name": "FloatProgressModel",
      "_view_count": null,
      "_view_module": "@jupyter-widgets/controls",
      "_view_module_version": "1.5.0",
      "_view_name": "ProgressView",
      "bar_style": "success",
      "description": "Epoch 4 train: 100%",
      "description_tooltip": null,
      "layout": "IPY_MODEL_4127de7c3f8a470e96c3cf1b863be977",
      "max": 2000,
      "min": 0,
      "orientation": "horizontal",
      "style": "IPY_MODEL_e338741c7df649fa8e4e6d3f64a9f071",
      "value": 2000
     }
    },
    "4aa655fcf6c649af9de66384158f8c7c": {
     "model_module": "@jupyter-widgets/base",
     "model_name": "LayoutModel",
     "state": {
      "_model_module": "@jupyter-widgets/base",
      "_model_module_version": "1.2.0",
      "_model_name": "LayoutModel",
      "_view_count": null,
      "_view_module": "@jupyter-widgets/base",
      "_view_module_version": "1.2.0",
      "_view_name": "LayoutView",
      "align_content": null,
      "align_items": null,
      "align_self": null,
      "border": null,
      "bottom": null,
      "display": null,
      "flex": null,
      "flex_flow": null,
      "grid_area": null,
      "grid_auto_columns": null,
      "grid_auto_flow": null,
      "grid_auto_rows": null,
      "grid_column": null,
      "grid_gap": null,
      "grid_row": null,
      "grid_template_areas": null,
      "grid_template_columns": null,
      "grid_template_rows": null,
      "height": null,
      "justify_content": null,
      "justify_items": null,
      "left": null,
      "margin": null,
      "max_height": null,
      "max_width": null,
      "min_height": null,
      "min_width": null,
      "object_fit": null,
      "object_position": null,
      "order": null,
      "overflow": null,
      "overflow_x": null,
      "overflow_y": null,
      "padding": null,
      "right": null,
      "top": null,
      "visibility": null,
      "width": null
     }
    },
    "53a6eab0481641c9b343d046fd359bf2": {
     "model_module": "@jupyter-widgets/controls",
     "model_name": "FloatProgressModel",
     "state": {
      "_dom_classes": [],
      "_model_module": "@jupyter-widgets/controls",
      "_model_module_version": "1.5.0",
      "_model_name": "FloatProgressModel",
      "_view_count": null,
      "_view_module": "@jupyter-widgets/controls",
      "_view_module_version": "1.5.0",
      "_view_name": "ProgressView",
      "bar_style": "success",
      "description": "Epoch 1 train: 100%",
      "description_tooltip": null,
      "layout": "IPY_MODEL_3c2fa22131854ca2a7dfcec34d65af3b",
      "max": 2000,
      "min": 0,
      "orientation": "horizontal",
      "style": "IPY_MODEL_433334ef070a4ab1bfc6eece6b63be26",
      "value": 2000
     }
    },
    "581656713b1646959f70a3420fb75960": {
     "model_module": "@jupyter-widgets/base",
     "model_name": "LayoutModel",
     "state": {
      "_model_module": "@jupyter-widgets/base",
      "_model_module_version": "1.2.0",
      "_model_name": "LayoutModel",
      "_view_count": null,
      "_view_module": "@jupyter-widgets/base",
      "_view_module_version": "1.2.0",
      "_view_name": "LayoutView",
      "align_content": null,
      "align_items": null,
      "align_self": null,
      "border": null,
      "bottom": null,
      "display": null,
      "flex": null,
      "flex_flow": null,
      "grid_area": null,
      "grid_auto_columns": null,
      "grid_auto_flow": null,
      "grid_auto_rows": null,
      "grid_column": null,
      "grid_gap": null,
      "grid_row": null,
      "grid_template_areas": null,
      "grid_template_columns": null,
      "grid_template_rows": null,
      "height": null,
      "justify_content": null,
      "justify_items": null,
      "left": null,
      "margin": null,
      "max_height": null,
      "max_width": null,
      "min_height": null,
      "min_width": null,
      "object_fit": null,
      "object_position": null,
      "order": null,
      "overflow": null,
      "overflow_x": null,
      "overflow_y": null,
      "padding": null,
      "right": null,
      "top": null,
      "visibility": null,
      "width": null
     }
    },
    "5a8ead812af4455c9c1e8ada1b3209c5": {
     "model_module": "@jupyter-widgets/controls",
     "model_name": "ProgressStyleModel",
     "state": {
      "_model_module": "@jupyter-widgets/controls",
      "_model_module_version": "1.5.0",
      "_model_name": "ProgressStyleModel",
      "_view_count": null,
      "_view_module": "@jupyter-widgets/base",
      "_view_module_version": "1.2.0",
      "_view_name": "StyleView",
      "bar_color": null,
      "description_width": "initial"
     }
    },
    "5df809cf3af640e88e455d0270dbc646": {
     "model_module": "@jupyter-widgets/controls",
     "model_name": "DescriptionStyleModel",
     "state": {
      "_model_module": "@jupyter-widgets/controls",
      "_model_module_version": "1.5.0",
      "_model_name": "DescriptionStyleModel",
      "_view_count": null,
      "_view_module": "@jupyter-widgets/base",
      "_view_module_version": "1.2.0",
      "_view_name": "StyleView",
      "description_width": ""
     }
    },
    "5ffaebc261e946d29a141caaea4f5fdd": {
     "model_module": "@jupyter-widgets/controls",
     "model_name": "DescriptionStyleModel",
     "state": {
      "_model_module": "@jupyter-widgets/controls",
      "_model_module_version": "1.5.0",
      "_model_name": "DescriptionStyleModel",
      "_view_count": null,
      "_view_module": "@jupyter-widgets/base",
      "_view_module_version": "1.2.0",
      "_view_name": "StyleView",
      "description_width": ""
     }
    },
    "61783bd49f8844de812269790bc1041e": {
     "model_module": "@jupyter-widgets/base",
     "model_name": "LayoutModel",
     "state": {
      "_model_module": "@jupyter-widgets/base",
      "_model_module_version": "1.2.0",
      "_model_name": "LayoutModel",
      "_view_count": null,
      "_view_module": "@jupyter-widgets/base",
      "_view_module_version": "1.2.0",
      "_view_name": "LayoutView",
      "align_content": null,
      "align_items": null,
      "align_self": null,
      "border": null,
      "bottom": null,
      "display": null,
      "flex": null,
      "flex_flow": null,
      "grid_area": null,
      "grid_auto_columns": null,
      "grid_auto_flow": null,
      "grid_auto_rows": null,
      "grid_column": null,
      "grid_gap": null,
      "grid_row": null,
      "grid_template_areas": null,
      "grid_template_columns": null,
      "grid_template_rows": null,
      "height": null,
      "justify_content": null,
      "justify_items": null,
      "left": null,
      "margin": null,
      "max_height": null,
      "max_width": null,
      "min_height": null,
      "min_width": null,
      "object_fit": null,
      "object_position": null,
      "order": null,
      "overflow": null,
      "overflow_x": null,
      "overflow_y": null,
      "padding": null,
      "right": null,
      "top": null,
      "visibility": null,
      "width": null
     }
    },
    "62808217a43e4a3a87c8da4082b29801": {
     "model_module": "@jupyter-widgets/base",
     "model_name": "LayoutModel",
     "state": {
      "_model_module": "@jupyter-widgets/base",
      "_model_module_version": "1.2.0",
      "_model_name": "LayoutModel",
      "_view_count": null,
      "_view_module": "@jupyter-widgets/base",
      "_view_module_version": "1.2.0",
      "_view_name": "LayoutView",
      "align_content": null,
      "align_items": null,
      "align_self": null,
      "border": null,
      "bottom": null,
      "display": null,
      "flex": null,
      "flex_flow": null,
      "grid_area": null,
      "grid_auto_columns": null,
      "grid_auto_flow": null,
      "grid_auto_rows": null,
      "grid_column": null,
      "grid_gap": null,
      "grid_row": null,
      "grid_template_areas": null,
      "grid_template_columns": null,
      "grid_template_rows": null,
      "height": null,
      "justify_content": null,
      "justify_items": null,
      "left": null,
      "margin": null,
      "max_height": null,
      "max_width": null,
      "min_height": null,
      "min_width": null,
      "object_fit": null,
      "object_position": null,
      "order": null,
      "overflow": null,
      "overflow_x": null,
      "overflow_y": null,
      "padding": null,
      "right": null,
      "top": null,
      "visibility": null,
      "width": null
     }
    },
    "6b8609a3fe9f467ea909cfe0b799da19": {
     "model_module": "@jupyter-widgets/controls",
     "model_name": "ProgressStyleModel",
     "state": {
      "_model_module": "@jupyter-widgets/controls",
      "_model_module_version": "1.5.0",
      "_model_name": "ProgressStyleModel",
      "_view_count": null,
      "_view_module": "@jupyter-widgets/base",
      "_view_module_version": "1.2.0",
      "_view_name": "StyleView",
      "bar_color": null,
      "description_width": "initial"
     }
    },
    "6de2fbeb393949f297c34f756129e4d8": {
     "model_module": "@jupyter-widgets/controls",
     "model_name": "HBoxModel",
     "state": {
      "_dom_classes": [],
      "_model_module": "@jupyter-widgets/controls",
      "_model_module_version": "1.5.0",
      "_model_name": "HBoxModel",
      "_view_count": null,
      "_view_module": "@jupyter-widgets/controls",
      "_view_module_version": "1.5.0",
      "_view_name": "HBoxView",
      "box_style": "",
      "children": [
       "IPY_MODEL_8fffaaff836540099e20a73f9f1f6abc",
       "IPY_MODEL_fb3fb76cfab94e18950b7fa8280d6bfa"
      ],
      "layout": "IPY_MODEL_62808217a43e4a3a87c8da4082b29801"
     }
    },
    "76f6236cddda43288fbe15c6cb9ca931": {
     "model_module": "@jupyter-widgets/controls",
     "model_name": "FloatProgressModel",
     "state": {
      "_dom_classes": [],
      "_model_module": "@jupyter-widgets/controls",
      "_model_module_version": "1.5.0",
      "_model_name": "FloatProgressModel",
      "_view_count": null,
      "_view_module": "@jupyter-widgets/controls",
      "_view_module_version": "1.5.0",
      "_view_name": "ProgressView",
      "bar_style": "success",
      "description": "100%",
      "description_tooltip": null,
      "layout": "IPY_MODEL_8c13a9024b7645b7a556a750459aa40f",
      "max": 1000,
      "min": 0,
      "orientation": "horizontal",
      "style": "IPY_MODEL_452720b5c47c4f2591cc2474da697b5f",
      "value": 1000
     }
    },
    "7873a43a0ddb48d09f18c4d72b49c568": {
     "model_module": "@jupyter-widgets/base",
     "model_name": "LayoutModel",
     "state": {
      "_model_module": "@jupyter-widgets/base",
      "_model_module_version": "1.2.0",
      "_model_name": "LayoutModel",
      "_view_count": null,
      "_view_module": "@jupyter-widgets/base",
      "_view_module_version": "1.2.0",
      "_view_name": "LayoutView",
      "align_content": null,
      "align_items": null,
      "align_self": null,
      "border": null,
      "bottom": null,
      "display": null,
      "flex": null,
      "flex_flow": null,
      "grid_area": null,
      "grid_auto_columns": null,
      "grid_auto_flow": null,
      "grid_auto_rows": null,
      "grid_column": null,
      "grid_gap": null,
      "grid_row": null,
      "grid_template_areas": null,
      "grid_template_columns": null,
      "grid_template_rows": null,
      "height": null,
      "justify_content": null,
      "justify_items": null,
      "left": null,
      "margin": null,
      "max_height": null,
      "max_width": null,
      "min_height": null,
      "min_width": null,
      "object_fit": null,
      "object_position": null,
      "order": null,
      "overflow": null,
      "overflow_x": null,
      "overflow_y": null,
      "padding": null,
      "right": null,
      "top": null,
      "visibility": null,
      "width": null
     }
    },
    "7c610bbed40d4fb39a0760b4df77eb11": {
     "model_module": "@jupyter-widgets/base",
     "model_name": "LayoutModel",
     "state": {
      "_model_module": "@jupyter-widgets/base",
      "_model_module_version": "1.2.0",
      "_model_name": "LayoutModel",
      "_view_count": null,
      "_view_module": "@jupyter-widgets/base",
      "_view_module_version": "1.2.0",
      "_view_name": "LayoutView",
      "align_content": null,
      "align_items": null,
      "align_self": null,
      "border": null,
      "bottom": null,
      "display": null,
      "flex": null,
      "flex_flow": null,
      "grid_area": null,
      "grid_auto_columns": null,
      "grid_auto_flow": null,
      "grid_auto_rows": null,
      "grid_column": null,
      "grid_gap": null,
      "grid_row": null,
      "grid_template_areas": null,
      "grid_template_columns": null,
      "grid_template_rows": null,
      "height": null,
      "justify_content": null,
      "justify_items": null,
      "left": null,
      "margin": null,
      "max_height": null,
      "max_width": null,
      "min_height": null,
      "min_width": null,
      "object_fit": null,
      "object_position": null,
      "order": null,
      "overflow": null,
      "overflow_x": null,
      "overflow_y": null,
      "padding": null,
      "right": null,
      "top": null,
      "visibility": null,
      "width": null
     }
    },
    "8c13a9024b7645b7a556a750459aa40f": {
     "model_module": "@jupyter-widgets/base",
     "model_name": "LayoutModel",
     "state": {
      "_model_module": "@jupyter-widgets/base",
      "_model_module_version": "1.2.0",
      "_model_name": "LayoutModel",
      "_view_count": null,
      "_view_module": "@jupyter-widgets/base",
      "_view_module_version": "1.2.0",
      "_view_name": "LayoutView",
      "align_content": null,
      "align_items": null,
      "align_self": null,
      "border": null,
      "bottom": null,
      "display": null,
      "flex": null,
      "flex_flow": null,
      "grid_area": null,
      "grid_auto_columns": null,
      "grid_auto_flow": null,
      "grid_auto_rows": null,
      "grid_column": null,
      "grid_gap": null,
      "grid_row": null,
      "grid_template_areas": null,
      "grid_template_columns": null,
      "grid_template_rows": null,
      "height": null,
      "justify_content": null,
      "justify_items": null,
      "left": null,
      "margin": null,
      "max_height": null,
      "max_width": null,
      "min_height": null,
      "min_width": null,
      "object_fit": null,
      "object_position": null,
      "order": null,
      "overflow": null,
      "overflow_x": null,
      "overflow_y": null,
      "padding": null,
      "right": null,
      "top": null,
      "visibility": null,
      "width": null
     }
    },
    "8fffaaff836540099e20a73f9f1f6abc": {
     "model_module": "@jupyter-widgets/controls",
     "model_name": "FloatProgressModel",
     "state": {
      "_dom_classes": [],
      "_model_module": "@jupyter-widgets/controls",
      "_model_module_version": "1.5.0",
      "_model_name": "FloatProgressModel",
      "_view_count": null,
      "_view_module": "@jupyter-widgets/controls",
      "_view_module_version": "1.5.0",
      "_view_name": "ProgressView",
      "bar_style": "success",
      "description": "Epoch 3 train: 100%",
      "description_tooltip": null,
      "layout": "IPY_MODEL_f7adceb9304448959f8c3bf33f31e7b9",
      "max": 2000,
      "min": 0,
      "orientation": "horizontal",
      "style": "IPY_MODEL_6b8609a3fe9f467ea909cfe0b799da19",
      "value": 2000
     }
    },
    "972ae0de8c254498aa37dd62cd604006": {
     "model_module": "@jupyter-widgets/controls",
     "model_name": "HTMLModel",
     "state": {
      "_dom_classes": [],
      "_model_module": "@jupyter-widgets/controls",
      "_model_module_version": "1.5.0",
      "_model_name": "HTMLModel",
      "_view_count": null,
      "_view_module": "@jupyter-widgets/controls",
      "_view_module_version": "1.5.0",
      "_view_name": "HTMLView",
      "description": "",
      "description_tooltip": null,
      "layout": "IPY_MODEL_0755d3d34cea44bb85d1a560618554b4",
      "placeholder": "​",
      "style": "IPY_MODEL_5ffaebc261e946d29a141caaea4f5fdd",
      "value": " 2000/2000 [04:59&lt;00:00,  6.69it/s]"
     }
    },
    "a9b59b5124194f71bb18fc7974cd83cf": {
     "model_module": "@jupyter-widgets/base",
     "model_name": "LayoutModel",
     "state": {
      "_model_module": "@jupyter-widgets/base",
      "_model_module_version": "1.2.0",
      "_model_name": "LayoutModel",
      "_view_count": null,
      "_view_module": "@jupyter-widgets/base",
      "_view_module_version": "1.2.0",
      "_view_name": "LayoutView",
      "align_content": null,
      "align_items": null,
      "align_self": null,
      "border": null,
      "bottom": null,
      "display": null,
      "flex": null,
      "flex_flow": null,
      "grid_area": null,
      "grid_auto_columns": null,
      "grid_auto_flow": null,
      "grid_auto_rows": null,
      "grid_column": null,
      "grid_gap": null,
      "grid_row": null,
      "grid_template_areas": null,
      "grid_template_columns": null,
      "grid_template_rows": null,
      "height": null,
      "justify_content": null,
      "justify_items": null,
      "left": null,
      "margin": null,
      "max_height": null,
      "max_width": null,
      "min_height": null,
      "min_width": null,
      "object_fit": null,
      "object_position": null,
      "order": null,
      "overflow": null,
      "overflow_x": null,
      "overflow_y": null,
      "padding": null,
      "right": null,
      "top": null,
      "visibility": null,
      "width": null
     }
    },
    "afd69d485c10453a815faf5ead6c2b3f": {
     "model_module": "@jupyter-widgets/controls",
     "model_name": "DescriptionStyleModel",
     "state": {
      "_model_module": "@jupyter-widgets/controls",
      "_model_module_version": "1.5.0",
      "_model_name": "DescriptionStyleModel",
      "_view_count": null,
      "_view_module": "@jupyter-widgets/base",
      "_view_module_version": "1.2.0",
      "_view_name": "StyleView",
      "description_width": ""
     }
    },
    "bb5117fc52f6431abf7245060f2dd744": {
     "model_module": "@jupyter-widgets/controls",
     "model_name": "HBoxModel",
     "state": {
      "_dom_classes": [],
      "_model_module": "@jupyter-widgets/controls",
      "_model_module_version": "1.5.0",
      "_model_name": "HBoxModel",
      "_view_count": null,
      "_view_module": "@jupyter-widgets/controls",
      "_view_module_version": "1.5.0",
      "_view_name": "HBoxView",
      "box_style": "",
      "children": [
       "IPY_MODEL_46bb6b64cfa947e8922be526cfa4794b",
       "IPY_MODEL_e4b1686fa03842269d519d582733589d"
      ],
      "layout": "IPY_MODEL_f6376e0638cb4ba498ef5e7ad489cf8b"
     }
    },
    "c196876b6b2745d7ba47cd3706fdf420": {
     "model_module": "@jupyter-widgets/controls",
     "model_name": "DescriptionStyleModel",
     "state": {
      "_model_module": "@jupyter-widgets/controls",
      "_model_module_version": "1.5.0",
      "_model_name": "DescriptionStyleModel",
      "_view_count": null,
      "_view_module": "@jupyter-widgets/base",
      "_view_module_version": "1.2.0",
      "_view_name": "StyleView",
      "description_width": ""
     }
    },
    "c6bda37e4b0d42d682a70b496890f92f": {
     "model_module": "@jupyter-widgets/controls",
     "model_name": "HBoxModel",
     "state": {
      "_dom_classes": [],
      "_model_module": "@jupyter-widgets/controls",
      "_model_module_version": "1.5.0",
      "_model_name": "HBoxModel",
      "_view_count": null,
      "_view_module": "@jupyter-widgets/controls",
      "_view_module_version": "1.5.0",
      "_view_name": "HBoxView",
      "box_style": "",
      "children": [
       "IPY_MODEL_2684d578ea46469ea0c42feaeab77fd1",
       "IPY_MODEL_972ae0de8c254498aa37dd62cd604006"
      ],
      "layout": "IPY_MODEL_61783bd49f8844de812269790bc1041e"
     }
    },
    "ca629333d0e2483c8f225b75202eaf3a": {
     "model_module": "@jupyter-widgets/base",
     "model_name": "LayoutModel",
     "state": {
      "_model_module": "@jupyter-widgets/base",
      "_model_module_version": "1.2.0",
      "_model_name": "LayoutModel",
      "_view_count": null,
      "_view_module": "@jupyter-widgets/base",
      "_view_module_version": "1.2.0",
      "_view_name": "LayoutView",
      "align_content": null,
      "align_items": null,
      "align_self": null,
      "border": null,
      "bottom": null,
      "display": null,
      "flex": null,
      "flex_flow": null,
      "grid_area": null,
      "grid_auto_columns": null,
      "grid_auto_flow": null,
      "grid_auto_rows": null,
      "grid_column": null,
      "grid_gap": null,
      "grid_row": null,
      "grid_template_areas": null,
      "grid_template_columns": null,
      "grid_template_rows": null,
      "height": null,
      "justify_content": null,
      "justify_items": null,
      "left": null,
      "margin": null,
      "max_height": null,
      "max_width": null,
      "min_height": null,
      "min_width": null,
      "object_fit": null,
      "object_position": null,
      "order": null,
      "overflow": null,
      "overflow_x": null,
      "overflow_y": null,
      "padding": null,
      "right": null,
      "top": null,
      "visibility": null,
      "width": null
     }
    },
    "dec17b0625d2425185176b03d21b708d": {
     "model_module": "@jupyter-widgets/controls",
     "model_name": "HTMLModel",
     "state": {
      "_dom_classes": [],
      "_model_module": "@jupyter-widgets/controls",
      "_model_module_version": "1.5.0",
      "_model_name": "HTMLModel",
      "_view_count": null,
      "_view_module": "@jupyter-widgets/controls",
      "_view_module_version": "1.5.0",
      "_view_name": "HTMLView",
      "description": "",
      "description_tooltip": null,
      "layout": "IPY_MODEL_a9b59b5124194f71bb18fc7974cd83cf",
      "placeholder": "​",
      "style": "IPY_MODEL_0f194ec785074660a9d6c770b21f46cc",
      "value": " 2000/2000 [05:11&lt;00:00,  6.42it/s]"
     }
    },
    "e0159f02b312472889bba9086f2cc881": {
     "model_module": "@jupyter-widgets/base",
     "model_name": "LayoutModel",
     "state": {
      "_model_module": "@jupyter-widgets/base",
      "_model_module_version": "1.2.0",
      "_model_name": "LayoutModel",
      "_view_count": null,
      "_view_module": "@jupyter-widgets/base",
      "_view_module_version": "1.2.0",
      "_view_name": "LayoutView",
      "align_content": null,
      "align_items": null,
      "align_self": null,
      "border": null,
      "bottom": null,
      "display": null,
      "flex": null,
      "flex_flow": null,
      "grid_area": null,
      "grid_auto_columns": null,
      "grid_auto_flow": null,
      "grid_auto_rows": null,
      "grid_column": null,
      "grid_gap": null,
      "grid_row": null,
      "grid_template_areas": null,
      "grid_template_columns": null,
      "grid_template_rows": null,
      "height": null,
      "justify_content": null,
      "justify_items": null,
      "left": null,
      "margin": null,
      "max_height": null,
      "max_width": null,
      "min_height": null,
      "min_width": null,
      "object_fit": null,
      "object_position": null,
      "order": null,
      "overflow": null,
      "overflow_x": null,
      "overflow_y": null,
      "padding": null,
      "right": null,
      "top": null,
      "visibility": null,
      "width": null
     }
    },
    "e3078c751ecc47438e93291fe5607aab": {
     "model_module": "@jupyter-widgets/controls",
     "model_name": "HTMLModel",
     "state": {
      "_dom_classes": [],
      "_model_module": "@jupyter-widgets/controls",
      "_model_module_version": "1.5.0",
      "_model_name": "HTMLModel",
      "_view_count": null,
      "_view_module": "@jupyter-widgets/controls",
      "_view_module_version": "1.5.0",
      "_view_name": "HTMLView",
      "description": "",
      "description_tooltip": null,
      "layout": "IPY_MODEL_ca629333d0e2483c8f225b75202eaf3a",
      "placeholder": "​",
      "style": "IPY_MODEL_afd69d485c10453a815faf5ead6c2b3f",
      "value": " 2000/2000 [47:03&lt;00:00,  1.41s/it]"
     }
    },
    "e338741c7df649fa8e4e6d3f64a9f071": {
     "model_module": "@jupyter-widgets/controls",
     "model_name": "ProgressStyleModel",
     "state": {
      "_model_module": "@jupyter-widgets/controls",
      "_model_module_version": "1.5.0",
      "_model_name": "ProgressStyleModel",
      "_view_count": null,
      "_view_module": "@jupyter-widgets/base",
      "_view_module_version": "1.2.0",
      "_view_name": "StyleView",
      "bar_color": null,
      "description_width": "initial"
     }
    },
    "e4b1686fa03842269d519d582733589d": {
     "model_module": "@jupyter-widgets/controls",
     "model_name": "HTMLModel",
     "state": {
      "_dom_classes": [],
      "_model_module": "@jupyter-widgets/controls",
      "_model_module_version": "1.5.0",
      "_model_name": "HTMLModel",
      "_view_count": null,
      "_view_module": "@jupyter-widgets/controls",
      "_view_module_version": "1.5.0",
      "_view_name": "HTMLView",
      "description": "",
      "description_tooltip": null,
      "layout": "IPY_MODEL_7873a43a0ddb48d09f18c4d72b49c568",
      "placeholder": "​",
      "style": "IPY_MODEL_c196876b6b2745d7ba47cd3706fdf420",
      "value": " 2000/2000 [09:57&lt;00:00,  3.35it/s]"
     }
    },
    "eacf30e249ac42daa5db07901bdbbe60": {
     "model_module": "@jupyter-widgets/base",
     "model_name": "LayoutModel",
     "state": {
      "_model_module": "@jupyter-widgets/base",
      "_model_module_version": "1.2.0",
      "_model_name": "LayoutModel",
      "_view_count": null,
      "_view_module": "@jupyter-widgets/base",
      "_view_module_version": "1.2.0",
      "_view_name": "LayoutView",
      "align_content": null,
      "align_items": null,
      "align_self": null,
      "border": null,
      "bottom": null,
      "display": null,
      "flex": null,
      "flex_flow": null,
      "grid_area": null,
      "grid_auto_columns": null,
      "grid_auto_flow": null,
      "grid_auto_rows": null,
      "grid_column": null,
      "grid_gap": null,
      "grid_row": null,
      "grid_template_areas": null,
      "grid_template_columns": null,
      "grid_template_rows": null,
      "height": null,
      "justify_content": null,
      "justify_items": null,
      "left": null,
      "margin": null,
      "max_height": null,
      "max_width": null,
      "min_height": null,
      "min_width": null,
      "object_fit": null,
      "object_position": null,
      "order": null,
      "overflow": null,
      "overflow_x": null,
      "overflow_y": null,
      "padding": null,
      "right": null,
      "top": null,
      "visibility": null,
      "width": null
     }
    },
    "f6376e0638cb4ba498ef5e7ad489cf8b": {
     "model_module": "@jupyter-widgets/base",
     "model_name": "LayoutModel",
     "state": {
      "_model_module": "@jupyter-widgets/base",
      "_model_module_version": "1.2.0",
      "_model_name": "LayoutModel",
      "_view_count": null,
      "_view_module": "@jupyter-widgets/base",
      "_view_module_version": "1.2.0",
      "_view_name": "LayoutView",
      "align_content": null,
      "align_items": null,
      "align_self": null,
      "border": null,
      "bottom": null,
      "display": null,
      "flex": null,
      "flex_flow": null,
      "grid_area": null,
      "grid_auto_columns": null,
      "grid_auto_flow": null,
      "grid_auto_rows": null,
      "grid_column": null,
      "grid_gap": null,
      "grid_row": null,
      "grid_template_areas": null,
      "grid_template_columns": null,
      "grid_template_rows": null,
      "height": null,
      "justify_content": null,
      "justify_items": null,
      "left": null,
      "margin": null,
      "max_height": null,
      "max_width": null,
      "min_height": null,
      "min_width": null,
      "object_fit": null,
      "object_position": null,
      "order": null,
      "overflow": null,
      "overflow_x": null,
      "overflow_y": null,
      "padding": null,
      "right": null,
      "top": null,
      "visibility": null,
      "width": null
     }
    },
    "f7adceb9304448959f8c3bf33f31e7b9": {
     "model_module": "@jupyter-widgets/base",
     "model_name": "LayoutModel",
     "state": {
      "_model_module": "@jupyter-widgets/base",
      "_model_module_version": "1.2.0",
      "_model_name": "LayoutModel",
      "_view_count": null,
      "_view_module": "@jupyter-widgets/base",
      "_view_module_version": "1.2.0",
      "_view_name": "LayoutView",
      "align_content": null,
      "align_items": null,
      "align_self": null,
      "border": null,
      "bottom": null,
      "display": null,
      "flex": null,
      "flex_flow": null,
      "grid_area": null,
      "grid_auto_columns": null,
      "grid_auto_flow": null,
      "grid_auto_rows": null,
      "grid_column": null,
      "grid_gap": null,
      "grid_row": null,
      "grid_template_areas": null,
      "grid_template_columns": null,
      "grid_template_rows": null,
      "height": null,
      "justify_content": null,
      "justify_items": null,
      "left": null,
      "margin": null,
      "max_height": null,
      "max_width": null,
      "min_height": null,
      "min_width": null,
      "object_fit": null,
      "object_position": null,
      "order": null,
      "overflow": null,
      "overflow_x": null,
      "overflow_y": null,
      "padding": null,
      "right": null,
      "top": null,
      "visibility": null,
      "width": null
     }
    },
    "fb3fb76cfab94e18950b7fa8280d6bfa": {
     "model_module": "@jupyter-widgets/controls",
     "model_name": "HTMLModel",
     "state": {
      "_dom_classes": [],
      "_model_module": "@jupyter-widgets/controls",
      "_model_module_version": "1.5.0",
      "_model_name": "HTMLModel",
      "_view_count": null,
      "_view_module": "@jupyter-widgets/controls",
      "_view_module_version": "1.5.0",
      "_view_name": "HTMLView",
      "description": "",
      "description_tooltip": null,
      "layout": "IPY_MODEL_581656713b1646959f70a3420fb75960",
      "placeholder": "​",
      "style": "IPY_MODEL_07aef15d3b664adb8ffa4077ba205959",
      "value": " 2000/2000 [14:55&lt;00:00,  2.23it/s]"
     }
    },
    "ffad4c75083c4a0f8d98c5d38a1aba6d": {
     "model_module": "@jupyter-widgets/controls",
     "model_name": "ProgressStyleModel",
     "state": {
      "_model_module": "@jupyter-widgets/controls",
      "_model_module_version": "1.5.0",
      "_model_name": "ProgressStyleModel",
      "_view_count": null,
      "_view_module": "@jupyter-widgets/base",
      "_view_module_version": "1.2.0",
      "_view_name": "StyleView",
      "bar_color": null,
      "description_width": "initial"
     }
    }
   }
  }
 },
 "nbformat": 4,
 "nbformat_minor": 4
}
